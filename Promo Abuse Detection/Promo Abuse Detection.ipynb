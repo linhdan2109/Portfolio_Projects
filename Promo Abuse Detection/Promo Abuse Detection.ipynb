{
 "cells": [
  {
   "cell_type": "markdown",
   "metadata": {},
   "source": [
    "<h1 style=\"text-align: center;\">Promo Abuse Detection</h1>\n",
    "\n",
    "### Introduction\n",
    "\n",
    "Promotions and discounts are widely used by businesses to attract customers, drive sales, and enhance brand loyalty. However, in the digital era, promotional abuse has become a significant concern for organizations across various industries. Promo abuse refers to the misuse or exploitation of promotional offers, codes, or incentives by individuals with the intention to gain undue advantages, circumvent rules, or engage in fraudulent activities. It poses serious challenges to businesses, leading to financial losses, erosion of trust, and negative customer experiences.\n",
    "\n",
    "This project aims to delve into the complex phenomenon of promo abuse, investigating its underlying patterns, understanding its impacts on businesses and consumers, and exploring effective strategies for its mitigation. \n",
    "\n",
    "### Objective\n",
    "- Clean and preprocess the dataset.\n",
    "- Explore the MCA (Multiple Correspondence Analysis) techniques to work with categorical or qualitative variables.\n",
    "- Find the best classification model.\n",
    "\n",
    "### Outline\n",
    "\n",
    "1. [Data Review](#datareview)\n",
    "\n",
    "2. [Data Cleaning](#datacleaning)\n",
    "\n",
    "3. [Labeling the target variable](#labelingthetargetvariable)\n",
    "\n",
    "4. [MCA (Multiple Correspondence Analysis) technique](#mca)\n",
    "\n",
    "5. [Modeling](#modeling)\n",
    "\n",
    "6. [Conclusion](#conclusion)\n",
    "\n",
    "---"
   ]
  },
  {
   "cell_type": "markdown",
   "metadata": {},
   "source": [
    "## 1. Data review <a name=\"datareview\"></a>\n",
    "\n",
    "### About the dataset ([Data Source](https://www.kaggle.com/datasets/tanisha1416/promo-abuse-detection-for-payment-apps))\n",
    "\n",
    "Imagine that ABC offering subscription-based services (such as streaming platforms) use payment gateways to manage recurring payments and subscriptions. For every new user sign-up on its platforms, ABC offer benefits to new customers to thank them for their commerce, encouraging them to become repeat users. Sign-up bonus abuse occurs when a customer uses multi accounting to benefit from a sign-up deal multiple times.\n",
    "\n",
    "This dataset comprises of the information of the users registering for the online payment gateway app of ABC. \n",
    "\n",
    "\n",
    "**Target variable:**\n",
    "- This dataset is designed to represent a real-world scenario, so the Target variable in this dataset is *'unknown'*. \n",
    "\n",
    "**Feature variables:** \n",
    "- *'X':* The ID for each registration.\n",
    "- *'FirstName':* First Name of the user.\n",
    "- *'LastName':* Last Name of the User.\n",
    "- *'Dob':* Date of birth of the user.\n",
    "- *'Gender':* Gender of the user. \n",
    "- *'UserId':* User ID given by the payment app.\n",
    "- *'Status':* Status of Registration.\n",
    "- *'Email':* Email of the user.\n",
    "- *'Mobile':* Mobile Number of the user.\n",
    "- *'ProgramId':* Program id provided by the payment gateway app.\n",
    "- *'ProgramName':* Name of the Payment program.\n",
    "- *'PostalCode':* Zipcode of the user's location.\n",
    "- *'BadTryCount':* User taking too long to fill in his details or switching between tabs too much.\n",
    "- *'LastLoginTime':* Timestamp of the last login.\n",
    "- *'PresentLoginTime':* Timestamp of recent login.\n",
    "- *'RegisteredOn':* Date and time of registration.\n",
    "- *'OS Type':* Device type.\n",
    "- *'Reg Referral Code':* Referral code name provided by the app.\n",
    "- *'Reg Referral Prefix':* Prefix of the referral code name provided by the app.\n",
    "- *'Ref PC AC Number':* Account number entered by the user.\n",
    "- *'Reg Client IP':* IP address of the registration device.\n",
    "- *'Device Id':* ID of the device used to make the registration.\n",
    "- *'Sim Id':* Id of the sim of the registered number on the app.\n",
    "- *'Meta Data':* Additional Info about the data.\n",
    "\n",
    "**Now, let's examine the dataset to gain insights, understand the data and identify any potential issues or trends.**"
   ]
  },
  {
   "cell_type": "markdown",
   "metadata": {},
   "source": [
    "---"
   ]
  },
  {
   "cell_type": "markdown",
   "metadata": {},
   "source": [
    "## 2. Data cleaning <a name=\"datacleaning\"></a>"
   ]
  },
  {
   "cell_type": "code",
   "execution_count": 1,
   "metadata": {
    "vscode": {
     "languageId": "r"
    }
   },
   "outputs": [
    {
     "name": "stderr",
     "output_type": "stream",
     "text": [
      "\n",
      "Attaching package: 'dplyr'\n",
      "\n",
      "\n",
      "The following objects are masked from 'package:stats':\n",
      "\n",
      "    filter, lag\n",
      "\n",
      "\n",
      "The following objects are masked from 'package:base':\n",
      "\n",
      "    intersect, setdiff, setequal, union\n",
      "\n",
      "\n",
      "\n",
      "Attaching package: 'lubridate'\n",
      "\n",
      "\n",
      "The following objects are masked from 'package:base':\n",
      "\n",
      "    date, intersect, setdiff, union\n",
      "\n",
      "\n",
      "Loading required package: ggplot2\n",
      "\n",
      "Loading required package: lattice\n",
      "\n",
      "Type 'citation(\"pROC\")' for a citation.\n",
      "\n",
      "\n",
      "Attaching package: 'pROC'\n",
      "\n",
      "\n",
      "The following objects are masked from 'package:stats':\n",
      "\n",
      "    cov, smooth, var\n",
      "\n",
      "\n"
     ]
    }
   ],
   "source": [
    "# import libraries\n",
    "library(skimr)\n",
    "library(dplyr)\n",
    "library(caTools)\n",
    "library(lubridate)\n",
    "library(caret)\n",
    "library(FactoMineR)\n",
    "library(pROC)"
   ]
  },
  {
   "cell_type": "code",
   "execution_count": 2,
   "metadata": {
    "vscode": {
     "languageId": "r"
    }
   },
   "outputs": [
    {
     "data": {
      "text/html": [
       "<table class=\"dataframe\">\n",
       "<caption>A data.frame: 6 × 24</caption>\n",
       "<thead>\n",
       "\t<tr><th></th><th scope=col>X</th><th scope=col>FirstName</th><th scope=col>LastName</th><th scope=col>Dob</th><th scope=col>Gender</th><th scope=col>UserId</th><th scope=col>Status</th><th scope=col>Email</th><th scope=col>Mobile</th><th scope=col>ProgramId</th><th scope=col>⋯</th><th scope=col>PresentLoginTime</th><th scope=col>RegisteredOn</th><th scope=col>OS.Type</th><th scope=col>Reg.Referral.Code</th><th scope=col>Reg.Referral.Prefix</th><th scope=col>Ref.PC.AC.Number</th><th scope=col>Reg.Client.IP</th><th scope=col>Device.Id</th><th scope=col>Sim.Id</th><th scope=col>Meta.Data</th></tr>\n",
       "\t<tr><th></th><th scope=col>&lt;int&gt;</th><th scope=col>&lt;chr&gt;</th><th scope=col>&lt;chr&gt;</th><th scope=col>&lt;chr&gt;</th><th scope=col>&lt;chr&gt;</th><th scope=col>&lt;int&gt;</th><th scope=col>&lt;int&gt;</th><th scope=col>&lt;chr&gt;</th><th scope=col>&lt;dbl&gt;</th><th scope=col>&lt;int&gt;</th><th scope=col>⋯</th><th scope=col>&lt;chr&gt;</th><th scope=col>&lt;chr&gt;</th><th scope=col>&lt;chr&gt;</th><th scope=col>&lt;chr&gt;</th><th scope=col>&lt;chr&gt;</th><th scope=col>&lt;chr&gt;</th><th scope=col>&lt;chr&gt;</th><th scope=col>&lt;chr&gt;</th><th scope=col>&lt;chr&gt;</th><th scope=col>&lt;chr&gt;</th></tr>\n",
       "</thead>\n",
       "<tbody>\n",
       "\t<tr><th scope=row>1</th><td>0</td><td>smt    </td><td>shyani devi </td><td>28-05-1985</td><td>F</td><td>13260350</td><td>1</td><td>smtXXXXXX@gmail.com</td><td>8812569734</td><td>6019</td><td>⋯</td><td>19:34:34</td><td>10/19/2020   18:45</td><td>Android</td><td>srpaa335</td><td>srpaa</td><td>IN017XXXXX1161</td><td>111.94.41.232</td><td>faid:y46GHDAWDVBGF1937ETsdfhd56483GDSSAA=:22b12  </td><td>faid:y46GHDAWDVBGF1937ETsdfhd56483GDSSAA=:81b11  </td><td>56641ab-7e57-4962-a362a89985</td></tr>\n",
       "\t<tr><th scope=row>2</th><td>1</td><td>shakshi</td><td>sagar       </td><td>09-06-1998</td><td>F</td><td>13454400</td><td>1</td><td>shaXXXXXX@gmail.com</td><td>8615389304</td><td>6019</td><td>⋯</td><td>18:58:54</td><td>10/19/2020   18:45</td><td>Android</td><td>srpaa345</td><td>srpaa</td><td>IN017XXXXX1166</td><td>111.92.31.237</td><td>faid:y46GHDAWDVBGF1937ETsdfhd56483GDSSAA=:14b15  </td><td>faid:y46GHDAWDVBGF1937ETsdfhd56483GDSSAA=:22b15  </td><td>56641ab-7e57-4962-a362a89990</td></tr>\n",
       "\t<tr><th scope=row>3</th><td>2</td><td>anshu  </td><td>d/o         </td><td>23-11-2001</td><td>F</td><td>13321313</td><td>1</td><td>ansXXXXXX@gmail.com</td><td>8418054019</td><td>6019</td><td>⋯</td><td>18:44:38</td><td>10/19/2020   18:45</td><td>ios    </td><td>srpaa349</td><td>srpaa</td><td>IN017XXXXX1168</td><td>111.94.91.346</td><td>iosvid:y46GHDAWDVBGF1937ETsdfhd56483GDSSAA=:81b16</td><td>faid:y46GHDAWDVBGF1937ETsdfhd56483GDSSAA=:14b16  </td><td>56641ab-7e57-4962-a362a89992</td></tr>\n",
       "\t<tr><th scope=row>4</th><td>3</td><td>kanika </td><td>kathuria    </td><td>20-06-2001</td><td>F</td><td>12444655</td><td>1</td><td>kanXXXXXX@gmail.com</td><td>8055221226</td><td>6019</td><td>⋯</td><td>18:41:04</td><td>10/19/2020   18:45</td><td>ios    </td><td>srpaa350</td><td>srpaa</td><td>IN012XXXXX1162</td><td>111.94.41.237</td><td>iosvid:y46GHDAWDVBGF1937ETsdfhd56483GDSSAA=:81b17</td><td>iosvid:y46GHDAWDVBGF1937ETsdfhd56483GDSSAA=:81b16</td><td>56641ab-7e53-4962-a362a89967</td></tr>\n",
       "\t<tr><th scope=row>5</th><td>4</td><td>riya   </td><td>masi        </td><td>18-07-2005</td><td>U</td><td>12547615</td><td>1</td><td>riyXXXXXX@gmail.com</td><td>8556603655</td><td>6019</td><td>⋯</td><td>18:08:58</td><td>10/19/2020   18:45</td><td>Android</td><td>srpaa359</td><td>srpaa</td><td>IN017XXXXX1173</td><td>111.94.41.240</td><td>faid:y46GHDAWDVBGF1937ETsdfhd56483GDSSAA=:22b20  </td><td>faid:y46GHDAWDVBGF1937ETsdfhd56483GDSSAA=:81b19  </td><td>56641ab-7e57-4962-a362a89997</td></tr>\n",
       "\t<tr><th scope=row>6</th><td>5</td><td>leela  </td><td>with a child</td><td>13-04-1987</td><td>U</td><td>12379326</td><td>1</td><td>leeXXXXXX@gmail.com</td><td>9396979136</td><td>6019</td><td>⋯</td><td>18:01:50</td><td>10/19/2020   18:45</td><td>Android</td><td>srpaa361</td><td>srpaa</td><td>IN017XXXXX1174</td><td>111.94.91.350</td><td>faid:y46GHDAWDVBGF1937ETsdfhd56483GDSSAA=:81b20  </td><td>faid:y46GHDAWDVBGF1937ETsdfhd56483GDSSAA=:14b20  </td><td>56641ab-7e57-4962-a362a89998</td></tr>\n",
       "</tbody>\n",
       "</table>\n"
      ],
      "text/latex": [
       "A data.frame: 6 × 24\n",
       "\\begin{tabular}{r|lllllllllllllllllllll}\n",
       "  & X & FirstName & LastName & Dob & Gender & UserId & Status & Email & Mobile & ProgramId & ⋯ & PresentLoginTime & RegisteredOn & OS.Type & Reg.Referral.Code & Reg.Referral.Prefix & Ref.PC.AC.Number & Reg.Client.IP & Device.Id & Sim.Id & Meta.Data\\\\\n",
       "  & <int> & <chr> & <chr> & <chr> & <chr> & <int> & <int> & <chr> & <dbl> & <int> & ⋯ & <chr> & <chr> & <chr> & <chr> & <chr> & <chr> & <chr> & <chr> & <chr> & <chr>\\\\\n",
       "\\hline\n",
       "\t1 & 0 & smt     & shyani devi  & 28-05-1985 & F & 13260350 & 1 & smtXXXXXX@gmail.com & 8812569734 & 6019 & ⋯ & 19:34:34 & 10/19/2020   18:45 & Android & srpaa335 & srpaa & IN017XXXXX1161 & 111.94.41.232 & faid:y46GHDAWDVBGF1937ETsdfhd56483GDSSAA=:22b12   & faid:y46GHDAWDVBGF1937ETsdfhd56483GDSSAA=:81b11   & 56641ab-7e57-4962-a362a89985\\\\\n",
       "\t2 & 1 & shakshi & sagar        & 09-06-1998 & F & 13454400 & 1 & shaXXXXXX@gmail.com & 8615389304 & 6019 & ⋯ & 18:58:54 & 10/19/2020   18:45 & Android & srpaa345 & srpaa & IN017XXXXX1166 & 111.92.31.237 & faid:y46GHDAWDVBGF1937ETsdfhd56483GDSSAA=:14b15   & faid:y46GHDAWDVBGF1937ETsdfhd56483GDSSAA=:22b15   & 56641ab-7e57-4962-a362a89990\\\\\n",
       "\t3 & 2 & anshu   & d/o          & 23-11-2001 & F & 13321313 & 1 & ansXXXXXX@gmail.com & 8418054019 & 6019 & ⋯ & 18:44:38 & 10/19/2020   18:45 & ios     & srpaa349 & srpaa & IN017XXXXX1168 & 111.94.91.346 & iosvid:y46GHDAWDVBGF1937ETsdfhd56483GDSSAA=:81b16 & faid:y46GHDAWDVBGF1937ETsdfhd56483GDSSAA=:14b16   & 56641ab-7e57-4962-a362a89992\\\\\n",
       "\t4 & 3 & kanika  & kathuria     & 20-06-2001 & F & 12444655 & 1 & kanXXXXXX@gmail.com & 8055221226 & 6019 & ⋯ & 18:41:04 & 10/19/2020   18:45 & ios     & srpaa350 & srpaa & IN012XXXXX1162 & 111.94.41.237 & iosvid:y46GHDAWDVBGF1937ETsdfhd56483GDSSAA=:81b17 & iosvid:y46GHDAWDVBGF1937ETsdfhd56483GDSSAA=:81b16 & 56641ab-7e53-4962-a362a89967\\\\\n",
       "\t5 & 4 & riya    & masi         & 18-07-2005 & U & 12547615 & 1 & riyXXXXXX@gmail.com & 8556603655 & 6019 & ⋯ & 18:08:58 & 10/19/2020   18:45 & Android & srpaa359 & srpaa & IN017XXXXX1173 & 111.94.41.240 & faid:y46GHDAWDVBGF1937ETsdfhd56483GDSSAA=:22b20   & faid:y46GHDAWDVBGF1937ETsdfhd56483GDSSAA=:81b19   & 56641ab-7e57-4962-a362a89997\\\\\n",
       "\t6 & 5 & leela   & with a child & 13-04-1987 & U & 12379326 & 1 & leeXXXXXX@gmail.com & 9396979136 & 6019 & ⋯ & 18:01:50 & 10/19/2020   18:45 & Android & srpaa361 & srpaa & IN017XXXXX1174 & 111.94.91.350 & faid:y46GHDAWDVBGF1937ETsdfhd56483GDSSAA=:81b20   & faid:y46GHDAWDVBGF1937ETsdfhd56483GDSSAA=:14b20   & 56641ab-7e57-4962-a362a89998\\\\\n",
       "\\end{tabular}\n"
      ],
      "text/markdown": [
       "\n",
       "A data.frame: 6 × 24\n",
       "\n",
       "| <!--/--> | X &lt;int&gt; | FirstName &lt;chr&gt; | LastName &lt;chr&gt; | Dob &lt;chr&gt; | Gender &lt;chr&gt; | UserId &lt;int&gt; | Status &lt;int&gt; | Email &lt;chr&gt; | Mobile &lt;dbl&gt; | ProgramId &lt;int&gt; | ⋯ ⋯ | PresentLoginTime &lt;chr&gt; | RegisteredOn &lt;chr&gt; | OS.Type &lt;chr&gt; | Reg.Referral.Code &lt;chr&gt; | Reg.Referral.Prefix &lt;chr&gt; | Ref.PC.AC.Number &lt;chr&gt; | Reg.Client.IP &lt;chr&gt; | Device.Id &lt;chr&gt; | Sim.Id &lt;chr&gt; | Meta.Data &lt;chr&gt; |\n",
       "|---|---|---|---|---|---|---|---|---|---|---|---|---|---|---|---|---|---|---|---|---|---|\n",
       "| 1 | 0 | smt     | shyani devi  | 28-05-1985 | F | 13260350 | 1 | smtXXXXXX@gmail.com | 8812569734 | 6019 | ⋯ | 19:34:34 | 10/19/2020   18:45 | Android | srpaa335 | srpaa | IN017XXXXX1161 | 111.94.41.232 | faid:y46GHDAWDVBGF1937ETsdfhd56483GDSSAA=:22b12   | faid:y46GHDAWDVBGF1937ETsdfhd56483GDSSAA=:81b11   | 56641ab-7e57-4962-a362a89985 |\n",
       "| 2 | 1 | shakshi | sagar        | 09-06-1998 | F | 13454400 | 1 | shaXXXXXX@gmail.com | 8615389304 | 6019 | ⋯ | 18:58:54 | 10/19/2020   18:45 | Android | srpaa345 | srpaa | IN017XXXXX1166 | 111.92.31.237 | faid:y46GHDAWDVBGF1937ETsdfhd56483GDSSAA=:14b15   | faid:y46GHDAWDVBGF1937ETsdfhd56483GDSSAA=:22b15   | 56641ab-7e57-4962-a362a89990 |\n",
       "| 3 | 2 | anshu   | d/o          | 23-11-2001 | F | 13321313 | 1 | ansXXXXXX@gmail.com | 8418054019 | 6019 | ⋯ | 18:44:38 | 10/19/2020   18:45 | ios     | srpaa349 | srpaa | IN017XXXXX1168 | 111.94.91.346 | iosvid:y46GHDAWDVBGF1937ETsdfhd56483GDSSAA=:81b16 | faid:y46GHDAWDVBGF1937ETsdfhd56483GDSSAA=:14b16   | 56641ab-7e57-4962-a362a89992 |\n",
       "| 4 | 3 | kanika  | kathuria     | 20-06-2001 | F | 12444655 | 1 | kanXXXXXX@gmail.com | 8055221226 | 6019 | ⋯ | 18:41:04 | 10/19/2020   18:45 | ios     | srpaa350 | srpaa | IN012XXXXX1162 | 111.94.41.237 | iosvid:y46GHDAWDVBGF1937ETsdfhd56483GDSSAA=:81b17 | iosvid:y46GHDAWDVBGF1937ETsdfhd56483GDSSAA=:81b16 | 56641ab-7e53-4962-a362a89967 |\n",
       "| 5 | 4 | riya    | masi         | 18-07-2005 | U | 12547615 | 1 | riyXXXXXX@gmail.com | 8556603655 | 6019 | ⋯ | 18:08:58 | 10/19/2020   18:45 | Android | srpaa359 | srpaa | IN017XXXXX1173 | 111.94.41.240 | faid:y46GHDAWDVBGF1937ETsdfhd56483GDSSAA=:22b20   | faid:y46GHDAWDVBGF1937ETsdfhd56483GDSSAA=:81b19   | 56641ab-7e57-4962-a362a89997 |\n",
       "| 6 | 5 | leela   | with a child | 13-04-1987 | U | 12379326 | 1 | leeXXXXXX@gmail.com | 9396979136 | 6019 | ⋯ | 18:01:50 | 10/19/2020   18:45 | Android | srpaa361 | srpaa | IN017XXXXX1174 | 111.94.91.350 | faid:y46GHDAWDVBGF1937ETsdfhd56483GDSSAA=:81b20   | faid:y46GHDAWDVBGF1937ETsdfhd56483GDSSAA=:14b20   | 56641ab-7e57-4962-a362a89998 |\n",
       "\n"
      ],
      "text/plain": [
       "  X FirstName LastName     Dob        Gender UserId   Status\n",
       "1 0 smt       shyani devi  28-05-1985 F      13260350 1     \n",
       "2 1 shakshi   sagar        09-06-1998 F      13454400 1     \n",
       "3 2 anshu     d/o          23-11-2001 F      13321313 1     \n",
       "4 3 kanika    kathuria     20-06-2001 F      12444655 1     \n",
       "5 4 riya      masi         18-07-2005 U      12547615 1     \n",
       "6 5 leela     with a child 13-04-1987 U      12379326 1     \n",
       "  Email               Mobile     ProgramId ⋯ PresentLoginTime\n",
       "1 smtXXXXXX@gmail.com 8812569734 6019      ⋯ 19:34:34        \n",
       "2 shaXXXXXX@gmail.com 8615389304 6019      ⋯ 18:58:54        \n",
       "3 ansXXXXXX@gmail.com 8418054019 6019      ⋯ 18:44:38        \n",
       "4 kanXXXXXX@gmail.com 8055221226 6019      ⋯ 18:41:04        \n",
       "5 riyXXXXXX@gmail.com 8556603655 6019      ⋯ 18:08:58        \n",
       "6 leeXXXXXX@gmail.com 9396979136 6019      ⋯ 18:01:50        \n",
       "  RegisteredOn       OS.Type Reg.Referral.Code Reg.Referral.Prefix\n",
       "1 10/19/2020   18:45 Android srpaa335          srpaa              \n",
       "2 10/19/2020   18:45 Android srpaa345          srpaa              \n",
       "3 10/19/2020   18:45 ios     srpaa349          srpaa              \n",
       "4 10/19/2020   18:45 ios     srpaa350          srpaa              \n",
       "5 10/19/2020   18:45 Android srpaa359          srpaa              \n",
       "6 10/19/2020   18:45 Android srpaa361          srpaa              \n",
       "  Ref.PC.AC.Number Reg.Client.IP\n",
       "1 IN017XXXXX1161   111.94.41.232\n",
       "2 IN017XXXXX1166   111.92.31.237\n",
       "3 IN017XXXXX1168   111.94.91.346\n",
       "4 IN012XXXXX1162   111.94.41.237\n",
       "5 IN017XXXXX1173   111.94.41.240\n",
       "6 IN017XXXXX1174   111.94.91.350\n",
       "  Device.Id                                        \n",
       "1 faid:y46GHDAWDVBGF1937ETsdfhd56483GDSSAA=:22b12  \n",
       "2 faid:y46GHDAWDVBGF1937ETsdfhd56483GDSSAA=:14b15  \n",
       "3 iosvid:y46GHDAWDVBGF1937ETsdfhd56483GDSSAA=:81b16\n",
       "4 iosvid:y46GHDAWDVBGF1937ETsdfhd56483GDSSAA=:81b17\n",
       "5 faid:y46GHDAWDVBGF1937ETsdfhd56483GDSSAA=:22b20  \n",
       "6 faid:y46GHDAWDVBGF1937ETsdfhd56483GDSSAA=:81b20  \n",
       "  Sim.Id                                           \n",
       "1 faid:y46GHDAWDVBGF1937ETsdfhd56483GDSSAA=:81b11  \n",
       "2 faid:y46GHDAWDVBGF1937ETsdfhd56483GDSSAA=:22b15  \n",
       "3 faid:y46GHDAWDVBGF1937ETsdfhd56483GDSSAA=:14b16  \n",
       "4 iosvid:y46GHDAWDVBGF1937ETsdfhd56483GDSSAA=:81b16\n",
       "5 faid:y46GHDAWDVBGF1937ETsdfhd56483GDSSAA=:81b19  \n",
       "6 faid:y46GHDAWDVBGF1937ETsdfhd56483GDSSAA=:14b20  \n",
       "  Meta.Data                   \n",
       "1 56641ab-7e57-4962-a362a89985\n",
       "2 56641ab-7e57-4962-a362a89990\n",
       "3 56641ab-7e57-4962-a362a89992\n",
       "4 56641ab-7e53-4962-a362a89967\n",
       "5 56641ab-7e57-4962-a362a89997\n",
       "6 56641ab-7e57-4962-a362a89998"
      ]
     },
     "metadata": {},
     "output_type": "display_data"
    }
   ],
   "source": [
    "# load dataset into R\n",
    "df <- read.csv('Promo_Abuse_Detection_Dataset.csv')\n",
    "head(df)"
   ]
  },
  {
   "cell_type": "code",
   "execution_count": 3,
   "metadata": {
    "vscode": {
     "languageId": "r"
    }
   },
   "outputs": [
    {
     "name": "stdout",
     "output_type": "stream",
     "text": [
      "── Data Summary ────────────────────────\n",
      "                           Values\n",
      "Name                       df    \n",
      "Number of rows             395   \n",
      "Number of columns          24    \n",
      "_______________________          \n",
      "Column type frequency:           \n",
      "  character                17    \n",
      "  numeric                  7     \n",
      "________________________         \n",
      "Group variables            None  \n",
      "\n",
      "── Variable type: character ────────────────────────────────────────────────────\n",
      "   skim_variable       n_missing complete_rate min max empty n_unique whitespace\n",
      "\u001b[90m 1\u001b[39m FirstName                   0             1   1  13     0      309          0\n",
      "\u001b[90m 2\u001b[39m LastName                    0             1   0  28   133      184          0\n",
      "\u001b[90m 3\u001b[39m Dob                         0             1  10  10     0      392          0\n",
      "\u001b[90m 4\u001b[39m Gender                      0             1   0   1     2        4          0\n",
      "\u001b[90m 5\u001b[39m Email                       0             1  17  19     0      220          0\n",
      "\u001b[90m 6\u001b[39m ProgramName                 0             1   7   7     0        1          0\n",
      "\u001b[90m 7\u001b[39m LastLoginTime               0             1   8  16     0      392          0\n",
      "\u001b[90m 8\u001b[39m PresentLoginTime            0             1   8   8     0      394          0\n",
      "\u001b[90m 9\u001b[39m RegisteredOn                0             1  18  18     0        3          0\n",
      "\u001b[90m10\u001b[39m OS.Type                     0             1   3   7     0        2          0\n",
      "\u001b[90m11\u001b[39m Reg.Referral.Code           0             1   0  10    33      363          0\n",
      "\u001b[90m12\u001b[39m Reg.Referral.Prefix         0             1   0   5    33        9          0\n",
      "\u001b[90m13\u001b[39m Ref.PC.AC.Number            0             1  14  14     0      369          0\n",
      "\u001b[90m14\u001b[39m Reg.Client.IP               0             1  10  14     0      395          0\n",
      "\u001b[90m15\u001b[39m Device.Id                   0             1  47  53     0      389          0\n",
      "\u001b[90m16\u001b[39m Sim.Id                      0             1  47  53     0      395          0\n",
      "\u001b[90m17\u001b[39m Meta.Data                   0             1  28  28     0      395          0\n",
      "\n",
      "── Variable type: numeric ──────────────────────────────────────────────────────\n",
      "  skim_variable n_missing complete_rate        mean         sd         p0\n",
      "\u001b[90m1\u001b[39m X                     0             1        621.       270.          0\n",
      "\u001b[90m2\u001b[39m UserId                0             1   12\u001b[4m8\u001b[24m\u001b[4m8\u001b[24m\u001b[4m9\u001b[24m337.    \u001b[4m3\u001b[24m\u001b[4m1\u001b[24m\u001b[4m4\u001b[24m970.   12\u001b[4m3\u001b[24m\u001b[4m6\u001b[24m\u001b[4m0\u001b[24m866\n",
      "\u001b[90m3\u001b[39m Status                0             1          1          0           1\n",
      "\u001b[90m4\u001b[39m Mobile                0             1 \u001b[4m8\u001b[24m929\u001b[4m1\u001b[24m\u001b[4m4\u001b[24m\u001b[4m9\u001b[24m976. 650\u001b[4m8\u001b[24m\u001b[4m4\u001b[24m\u001b[4m1\u001b[24m384. \u001b[4m7\u001b[24m746\u001b[4m0\u001b[24m\u001b[4m4\u001b[24m\u001b[4m6\u001b[24m504\n",
      "\u001b[90m5\u001b[39m ProgramId             0             1       \u001b[4m6\u001b[24m019          0        \u001b[4m6\u001b[24m019\n",
      "\u001b[90m6\u001b[39m PostalCode            0             1     \u001b[4m5\u001b[24m\u001b[4m3\u001b[24m\u001b[4m5\u001b[24m341.    \u001b[4m1\u001b[24m\u001b[4m7\u001b[24m\u001b[4m9\u001b[24m286.     \u001b[4m2\u001b[24m\u001b[4m3\u001b[24m\u001b[4m6\u001b[24m378\n",
      "\u001b[90m7\u001b[39m BadTryCount           0             1          0          0           0\n",
      "          p25        p50         p75       p100 hist \n",
      "\u001b[90m1\u001b[39m        480.        628        870.        998 ▂▁▇▅▇\n",
      "\u001b[90m2\u001b[39m   12\u001b[4m6\u001b[24m\u001b[4m1\u001b[24m\u001b[4m3\u001b[24m543    12\u001b[4m8\u001b[24m\u001b[4m6\u001b[24m\u001b[4m8\u001b[24m065   13\u001b[4m1\u001b[24m\u001b[4m7\u001b[24m\u001b[4m8\u001b[24m492.   13\u001b[4m4\u001b[24m\u001b[4m5\u001b[24m\u001b[4m4\u001b[24m400 ▇▇▇▇▇\n",
      "\u001b[90m3\u001b[39m          1           1          1           1 ▁▁▇▁▁\n",
      "\u001b[90m4\u001b[39m \u001b[4m8\u001b[24m416\u001b[4m8\u001b[24m\u001b[4m8\u001b[24m\u001b[4m0\u001b[24m878  \u001b[4m8\u001b[24m959\u001b[4m2\u001b[24m\u001b[4m2\u001b[24m\u001b[4m9\u001b[24m176 \u001b[4m9\u001b[24m495\u001b[4m7\u001b[24m\u001b[4m5\u001b[24m\u001b[4m6\u001b[24m396  \u001b[4m9\u001b[24m983\u001b[4m5\u001b[24m\u001b[4m9\u001b[24m\u001b[4m0\u001b[24m336 ▆▇▇▇▇\n",
      "\u001b[90m5\u001b[39m       \u001b[4m6\u001b[24m019        \u001b[4m6\u001b[24m019       \u001b[4m6\u001b[24m019        \u001b[4m6\u001b[24m019 ▁▁▇▁▁\n",
      "\u001b[90m6\u001b[39m     \u001b[4m3\u001b[24m\u001b[4m9\u001b[24m\u001b[4m3\u001b[24m660.     \u001b[4m5\u001b[24m\u001b[4m0\u001b[24m\u001b[4m9\u001b[24m809     \u001b[4m6\u001b[24m\u001b[4m8\u001b[24m\u001b[4m5\u001b[24m814      \u001b[4m8\u001b[24m\u001b[4m7\u001b[24m\u001b[4m6\u001b[24m333 ▇▇▇▆▆\n",
      "\u001b[90m7\u001b[39m          0           0          0           0 ▁▁▇▁▁\n"
     ]
    },
    {
     "name": "stderr",
     "output_type": "stream",
     "text": [
      "Warning message in is.null(text_repr) || nchar(text_repr) == 0L:\n",
      "\"'length(x) = 17 > 1' in coercion to 'logical(1)'\"\n"
     ]
    },
    {
     "data": {
      "text/html": [
       "<table class=\"dataframe\">\n",
       "<caption>A skim_df: 24 × 17</caption>\n",
       "<thead>\n",
       "\t<tr><th></th><th scope=col>skim_type</th><th scope=col>skim_variable</th><th scope=col>n_missing</th><th scope=col>complete_rate</th><th scope=col>character.min</th><th scope=col>character.max</th><th scope=col>character.empty</th><th scope=col>character.n_unique</th><th scope=col>character.whitespace</th><th scope=col>numeric.mean</th><th scope=col>numeric.sd</th><th scope=col>numeric.p0</th><th scope=col>numeric.p25</th><th scope=col>numeric.p50</th><th scope=col>numeric.p75</th><th scope=col>numeric.p100</th><th scope=col>numeric.hist</th></tr>\n",
       "\t<tr><th></th><th scope=col>&lt;chr&gt;</th><th scope=col>&lt;chr&gt;</th><th scope=col>&lt;int&gt;</th><th scope=col>&lt;dbl&gt;</th><th scope=col>&lt;int&gt;</th><th scope=col>&lt;int&gt;</th><th scope=col>&lt;int&gt;</th><th scope=col>&lt;int&gt;</th><th scope=col>&lt;int&gt;</th><th scope=col>&lt;dbl&gt;</th><th scope=col>&lt;dbl&gt;</th><th scope=col>&lt;dbl&gt;</th><th scope=col>&lt;dbl&gt;</th><th scope=col>&lt;dbl&gt;</th><th scope=col>&lt;dbl&gt;</th><th scope=col>&lt;dbl&gt;</th><th scope=col>&lt;chr&gt;</th></tr>\n",
       "</thead>\n",
       "<tbody>\n",
       "\t<tr><th scope=row>1</th><td>character</td><td>FirstName          </td><td>0</td><td>1</td><td> 1</td><td>13</td><td>  0</td><td>309</td><td> 0</td><td>          NA</td><td>          NA</td><td>        NA</td><td>          NA</td><td>        NA</td><td>          NA</td><td>        NA</td><td>NA   </td></tr>\n",
       "\t<tr><th scope=row>2</th><td>character</td><td>LastName           </td><td>0</td><td>1</td><td> 0</td><td>28</td><td>133</td><td>184</td><td> 0</td><td>          NA</td><td>          NA</td><td>        NA</td><td>          NA</td><td>        NA</td><td>          NA</td><td>        NA</td><td>NA   </td></tr>\n",
       "\t<tr><th scope=row>3</th><td>character</td><td>Dob                </td><td>0</td><td>1</td><td>10</td><td>10</td><td>  0</td><td>392</td><td> 0</td><td>          NA</td><td>          NA</td><td>        NA</td><td>          NA</td><td>        NA</td><td>          NA</td><td>        NA</td><td>NA   </td></tr>\n",
       "\t<tr><th scope=row>4</th><td>character</td><td>Gender             </td><td>0</td><td>1</td><td> 0</td><td> 1</td><td>  2</td><td>  4</td><td> 0</td><td>          NA</td><td>          NA</td><td>        NA</td><td>          NA</td><td>        NA</td><td>          NA</td><td>        NA</td><td>NA   </td></tr>\n",
       "\t<tr><th scope=row>5</th><td>character</td><td>Email              </td><td>0</td><td>1</td><td>17</td><td>19</td><td>  0</td><td>220</td><td> 0</td><td>          NA</td><td>          NA</td><td>        NA</td><td>          NA</td><td>        NA</td><td>          NA</td><td>        NA</td><td>NA   </td></tr>\n",
       "\t<tr><th scope=row>6</th><td>character</td><td>ProgramName        </td><td>0</td><td>1</td><td> 7</td><td> 7</td><td>  0</td><td>  1</td><td> 0</td><td>          NA</td><td>          NA</td><td>        NA</td><td>          NA</td><td>        NA</td><td>          NA</td><td>        NA</td><td>NA   </td></tr>\n",
       "\t<tr><th scope=row>7</th><td>character</td><td>LastLoginTime      </td><td>0</td><td>1</td><td> 8</td><td>16</td><td>  0</td><td>392</td><td> 0</td><td>          NA</td><td>          NA</td><td>        NA</td><td>          NA</td><td>        NA</td><td>          NA</td><td>        NA</td><td>NA   </td></tr>\n",
       "\t<tr><th scope=row>8</th><td>character</td><td>PresentLoginTime   </td><td>0</td><td>1</td><td> 8</td><td> 8</td><td>  0</td><td>394</td><td> 0</td><td>          NA</td><td>          NA</td><td>        NA</td><td>          NA</td><td>        NA</td><td>          NA</td><td>        NA</td><td>NA   </td></tr>\n",
       "\t<tr><th scope=row>9</th><td>character</td><td>RegisteredOn       </td><td>0</td><td>1</td><td>18</td><td>18</td><td>  0</td><td>  3</td><td> 0</td><td>          NA</td><td>          NA</td><td>        NA</td><td>          NA</td><td>        NA</td><td>          NA</td><td>        NA</td><td>NA   </td></tr>\n",
       "\t<tr><th scope=row>10</th><td>character</td><td>OS.Type            </td><td>0</td><td>1</td><td> 3</td><td> 7</td><td>  0</td><td>  2</td><td> 0</td><td>          NA</td><td>          NA</td><td>        NA</td><td>          NA</td><td>        NA</td><td>          NA</td><td>        NA</td><td>NA   </td></tr>\n",
       "\t<tr><th scope=row>11</th><td>character</td><td>Reg.Referral.Code  </td><td>0</td><td>1</td><td> 0</td><td>10</td><td> 33</td><td>363</td><td> 0</td><td>          NA</td><td>          NA</td><td>        NA</td><td>          NA</td><td>        NA</td><td>          NA</td><td>        NA</td><td>NA   </td></tr>\n",
       "\t<tr><th scope=row>12</th><td>character</td><td>Reg.Referral.Prefix</td><td>0</td><td>1</td><td> 0</td><td> 5</td><td> 33</td><td>  9</td><td> 0</td><td>          NA</td><td>          NA</td><td>        NA</td><td>          NA</td><td>        NA</td><td>          NA</td><td>        NA</td><td>NA   </td></tr>\n",
       "\t<tr><th scope=row>13</th><td>character</td><td>Ref.PC.AC.Number   </td><td>0</td><td>1</td><td>14</td><td>14</td><td>  0</td><td>369</td><td> 0</td><td>          NA</td><td>          NA</td><td>        NA</td><td>          NA</td><td>        NA</td><td>          NA</td><td>        NA</td><td>NA   </td></tr>\n",
       "\t<tr><th scope=row>14</th><td>character</td><td>Reg.Client.IP      </td><td>0</td><td>1</td><td>10</td><td>14</td><td>  0</td><td>395</td><td> 0</td><td>          NA</td><td>          NA</td><td>        NA</td><td>          NA</td><td>        NA</td><td>          NA</td><td>        NA</td><td>NA   </td></tr>\n",
       "\t<tr><th scope=row>15</th><td>character</td><td>Device.Id          </td><td>0</td><td>1</td><td>47</td><td>53</td><td>  0</td><td>389</td><td> 0</td><td>          NA</td><td>          NA</td><td>        NA</td><td>          NA</td><td>        NA</td><td>          NA</td><td>        NA</td><td>NA   </td></tr>\n",
       "\t<tr><th scope=row>16</th><td>character</td><td>Sim.Id             </td><td>0</td><td>1</td><td>47</td><td>53</td><td>  0</td><td>395</td><td> 0</td><td>          NA</td><td>          NA</td><td>        NA</td><td>          NA</td><td>        NA</td><td>          NA</td><td>        NA</td><td>NA   </td></tr>\n",
       "\t<tr><th scope=row>17</th><td>character</td><td>Meta.Data          </td><td>0</td><td>1</td><td>28</td><td>28</td><td>  0</td><td>395</td><td> 0</td><td>          NA</td><td>          NA</td><td>        NA</td><td>          NA</td><td>        NA</td><td>          NA</td><td>        NA</td><td>NA   </td></tr>\n",
       "\t<tr><th scope=row>18</th><td>numeric  </td><td>X                  </td><td>0</td><td>1</td><td>NA</td><td>NA</td><td> NA</td><td> NA</td><td>NA</td><td>6.211367e+02</td><td>2.697953e+02</td><td>         0</td><td>       480.5</td><td>       628</td><td>       869.5</td><td>       998</td><td>▂▁▇▅▇</td></tr>\n",
       "\t<tr><th scope=row>19</th><td>numeric  </td><td>UserId             </td><td>0</td><td>1</td><td>NA</td><td>NA</td><td> NA</td><td> NA</td><td>NA</td><td>1.288934e+07</td><td>3.149705e+05</td><td>  12360866</td><td>  12613543.0</td><td>  12868065</td><td>  13178491.5</td><td>  13454400</td><td>▇▇▇▇▇</td></tr>\n",
       "\t<tr><th scope=row>20</th><td>numeric  </td><td>Status             </td><td>0</td><td>1</td><td>NA</td><td>NA</td><td> NA</td><td> NA</td><td>NA</td><td>1.000000e+00</td><td>0.000000e+00</td><td>         1</td><td>         1.0</td><td>         1</td><td>         1.0</td><td>         1</td><td>▁▁▇▁▁</td></tr>\n",
       "\t<tr><th scope=row>21</th><td>numeric  </td><td>Mobile             </td><td>0</td><td>1</td><td>NA</td><td>NA</td><td> NA</td><td> NA</td><td>NA</td><td>8.929150e+09</td><td>6.508414e+08</td><td>7746046504</td><td>8416880878.0</td><td>8959229176</td><td>9495756396.0</td><td>9983590336</td><td>▆▇▇▇▇</td></tr>\n",
       "\t<tr><th scope=row>22</th><td>numeric  </td><td>ProgramId          </td><td>0</td><td>1</td><td>NA</td><td>NA</td><td> NA</td><td> NA</td><td>NA</td><td>6.019000e+03</td><td>0.000000e+00</td><td>      6019</td><td>      6019.0</td><td>      6019</td><td>      6019.0</td><td>      6019</td><td>▁▁▇▁▁</td></tr>\n",
       "\t<tr><th scope=row>23</th><td>numeric  </td><td>PostalCode         </td><td>0</td><td>1</td><td>NA</td><td>NA</td><td> NA</td><td> NA</td><td>NA</td><td>5.353406e+05</td><td>1.792861e+05</td><td>    236378</td><td>    393660.5</td><td>    509809</td><td>    685814.0</td><td>    876333</td><td>▇▇▇▆▆</td></tr>\n",
       "\t<tr><th scope=row>24</th><td>numeric  </td><td>BadTryCount        </td><td>0</td><td>1</td><td>NA</td><td>NA</td><td> NA</td><td> NA</td><td>NA</td><td>0.000000e+00</td><td>0.000000e+00</td><td>         0</td><td>         0.0</td><td>         0</td><td>         0.0</td><td>         0</td><td>▁▁▇▁▁</td></tr>\n",
       "</tbody>\n",
       "</table>\n"
      ],
      "text/latex": [
       "A skim\\_df: 24 × 17\n",
       "\\begin{tabular}{r|lllllllllllllllll}\n",
       "  & skim\\_type & skim\\_variable & n\\_missing & complete\\_rate & character.min & character.max & character.empty & character.n\\_unique & character.whitespace & numeric.mean & numeric.sd & numeric.p0 & numeric.p25 & numeric.p50 & numeric.p75 & numeric.p100 & numeric.hist\\\\\n",
       "  & <chr> & <chr> & <int> & <dbl> & <int> & <int> & <int> & <int> & <int> & <dbl> & <dbl> & <dbl> & <dbl> & <dbl> & <dbl> & <dbl> & <chr>\\\\\n",
       "\\hline\n",
       "\t1 & character & FirstName           & 0 & 1 &  1 & 13 &   0 & 309 &  0 &           NA &           NA &         NA &           NA &         NA &           NA &         NA & NA   \\\\\n",
       "\t2 & character & LastName            & 0 & 1 &  0 & 28 & 133 & 184 &  0 &           NA &           NA &         NA &           NA &         NA &           NA &         NA & NA   \\\\\n",
       "\t3 & character & Dob                 & 0 & 1 & 10 & 10 &   0 & 392 &  0 &           NA &           NA &         NA &           NA &         NA &           NA &         NA & NA   \\\\\n",
       "\t4 & character & Gender              & 0 & 1 &  0 &  1 &   2 &   4 &  0 &           NA &           NA &         NA &           NA &         NA &           NA &         NA & NA   \\\\\n",
       "\t5 & character & Email               & 0 & 1 & 17 & 19 &   0 & 220 &  0 &           NA &           NA &         NA &           NA &         NA &           NA &         NA & NA   \\\\\n",
       "\t6 & character & ProgramName         & 0 & 1 &  7 &  7 &   0 &   1 &  0 &           NA &           NA &         NA &           NA &         NA &           NA &         NA & NA   \\\\\n",
       "\t7 & character & LastLoginTime       & 0 & 1 &  8 & 16 &   0 & 392 &  0 &           NA &           NA &         NA &           NA &         NA &           NA &         NA & NA   \\\\\n",
       "\t8 & character & PresentLoginTime    & 0 & 1 &  8 &  8 &   0 & 394 &  0 &           NA &           NA &         NA &           NA &         NA &           NA &         NA & NA   \\\\\n",
       "\t9 & character & RegisteredOn        & 0 & 1 & 18 & 18 &   0 &   3 &  0 &           NA &           NA &         NA &           NA &         NA &           NA &         NA & NA   \\\\\n",
       "\t10 & character & OS.Type             & 0 & 1 &  3 &  7 &   0 &   2 &  0 &           NA &           NA &         NA &           NA &         NA &           NA &         NA & NA   \\\\\n",
       "\t11 & character & Reg.Referral.Code   & 0 & 1 &  0 & 10 &  33 & 363 &  0 &           NA &           NA &         NA &           NA &         NA &           NA &         NA & NA   \\\\\n",
       "\t12 & character & Reg.Referral.Prefix & 0 & 1 &  0 &  5 &  33 &   9 &  0 &           NA &           NA &         NA &           NA &         NA &           NA &         NA & NA   \\\\\n",
       "\t13 & character & Ref.PC.AC.Number    & 0 & 1 & 14 & 14 &   0 & 369 &  0 &           NA &           NA &         NA &           NA &         NA &           NA &         NA & NA   \\\\\n",
       "\t14 & character & Reg.Client.IP       & 0 & 1 & 10 & 14 &   0 & 395 &  0 &           NA &           NA &         NA &           NA &         NA &           NA &         NA & NA   \\\\\n",
       "\t15 & character & Device.Id           & 0 & 1 & 47 & 53 &   0 & 389 &  0 &           NA &           NA &         NA &           NA &         NA &           NA &         NA & NA   \\\\\n",
       "\t16 & character & Sim.Id              & 0 & 1 & 47 & 53 &   0 & 395 &  0 &           NA &           NA &         NA &           NA &         NA &           NA &         NA & NA   \\\\\n",
       "\t17 & character & Meta.Data           & 0 & 1 & 28 & 28 &   0 & 395 &  0 &           NA &           NA &         NA &           NA &         NA &           NA &         NA & NA   \\\\\n",
       "\t18 & numeric   & X                   & 0 & 1 & NA & NA &  NA &  NA & NA & 6.211367e+02 & 2.697953e+02 &          0 &        480.5 &        628 &        869.5 &        998 & ▂▁▇▅▇\\\\\n",
       "\t19 & numeric   & UserId              & 0 & 1 & NA & NA &  NA &  NA & NA & 1.288934e+07 & 3.149705e+05 &   12360866 &   12613543.0 &   12868065 &   13178491.5 &   13454400 & ▇▇▇▇▇\\\\\n",
       "\t20 & numeric   & Status              & 0 & 1 & NA & NA &  NA &  NA & NA & 1.000000e+00 & 0.000000e+00 &          1 &          1.0 &          1 &          1.0 &          1 & ▁▁▇▁▁\\\\\n",
       "\t21 & numeric   & Mobile              & 0 & 1 & NA & NA &  NA &  NA & NA & 8.929150e+09 & 6.508414e+08 & 7746046504 & 8416880878.0 & 8959229176 & 9495756396.0 & 9983590336 & ▆▇▇▇▇\\\\\n",
       "\t22 & numeric   & ProgramId           & 0 & 1 & NA & NA &  NA &  NA & NA & 6.019000e+03 & 0.000000e+00 &       6019 &       6019.0 &       6019 &       6019.0 &       6019 & ▁▁▇▁▁\\\\\n",
       "\t23 & numeric   & PostalCode          & 0 & 1 & NA & NA &  NA &  NA & NA & 5.353406e+05 & 1.792861e+05 &     236378 &     393660.5 &     509809 &     685814.0 &     876333 & ▇▇▇▆▆\\\\\n",
       "\t24 & numeric   & BadTryCount         & 0 & 1 & NA & NA &  NA &  NA & NA & 0.000000e+00 & 0.000000e+00 &          0 &          0.0 &          0 &          0.0 &          0 & ▁▁▇▁▁\\\\\n",
       "\\end{tabular}\n"
      ],
      "text/markdown": [
       "\n",
       "A skim_df: 24 × 17\n",
       "\n",
       "| <!--/--> | skim_type &lt;chr&gt; | skim_variable &lt;chr&gt; | n_missing &lt;int&gt; | complete_rate &lt;dbl&gt; | character.min &lt;int&gt; | character.max &lt;int&gt; | character.empty &lt;int&gt; | character.n_unique &lt;int&gt; | character.whitespace &lt;int&gt; | numeric.mean &lt;dbl&gt; | numeric.sd &lt;dbl&gt; | numeric.p0 &lt;dbl&gt; | numeric.p25 &lt;dbl&gt; | numeric.p50 &lt;dbl&gt; | numeric.p75 &lt;dbl&gt; | numeric.p100 &lt;dbl&gt; | numeric.hist &lt;chr&gt; |\n",
       "|---|---|---|---|---|---|---|---|---|---|---|---|---|---|---|---|---|---|\n",
       "| 1 | character | FirstName           | 0 | 1 |  1 | 13 |   0 | 309 |  0 |           NA |           NA |         NA |           NA |         NA |           NA |         NA | NA    |\n",
       "| 2 | character | LastName            | 0 | 1 |  0 | 28 | 133 | 184 |  0 |           NA |           NA |         NA |           NA |         NA |           NA |         NA | NA    |\n",
       "| 3 | character | Dob                 | 0 | 1 | 10 | 10 |   0 | 392 |  0 |           NA |           NA |         NA |           NA |         NA |           NA |         NA | NA    |\n",
       "| 4 | character | Gender              | 0 | 1 |  0 |  1 |   2 |   4 |  0 |           NA |           NA |         NA |           NA |         NA |           NA |         NA | NA    |\n",
       "| 5 | character | Email               | 0 | 1 | 17 | 19 |   0 | 220 |  0 |           NA |           NA |         NA |           NA |         NA |           NA |         NA | NA    |\n",
       "| 6 | character | ProgramName         | 0 | 1 |  7 |  7 |   0 |   1 |  0 |           NA |           NA |         NA |           NA |         NA |           NA |         NA | NA    |\n",
       "| 7 | character | LastLoginTime       | 0 | 1 |  8 | 16 |   0 | 392 |  0 |           NA |           NA |         NA |           NA |         NA |           NA |         NA | NA    |\n",
       "| 8 | character | PresentLoginTime    | 0 | 1 |  8 |  8 |   0 | 394 |  0 |           NA |           NA |         NA |           NA |         NA |           NA |         NA | NA    |\n",
       "| 9 | character | RegisteredOn        | 0 | 1 | 18 | 18 |   0 |   3 |  0 |           NA |           NA |         NA |           NA |         NA |           NA |         NA | NA    |\n",
       "| 10 | character | OS.Type             | 0 | 1 |  3 |  7 |   0 |   2 |  0 |           NA |           NA |         NA |           NA |         NA |           NA |         NA | NA    |\n",
       "| 11 | character | Reg.Referral.Code   | 0 | 1 |  0 | 10 |  33 | 363 |  0 |           NA |           NA |         NA |           NA |         NA |           NA |         NA | NA    |\n",
       "| 12 | character | Reg.Referral.Prefix | 0 | 1 |  0 |  5 |  33 |   9 |  0 |           NA |           NA |         NA |           NA |         NA |           NA |         NA | NA    |\n",
       "| 13 | character | Ref.PC.AC.Number    | 0 | 1 | 14 | 14 |   0 | 369 |  0 |           NA |           NA |         NA |           NA |         NA |           NA |         NA | NA    |\n",
       "| 14 | character | Reg.Client.IP       | 0 | 1 | 10 | 14 |   0 | 395 |  0 |           NA |           NA |         NA |           NA |         NA |           NA |         NA | NA    |\n",
       "| 15 | character | Device.Id           | 0 | 1 | 47 | 53 |   0 | 389 |  0 |           NA |           NA |         NA |           NA |         NA |           NA |         NA | NA    |\n",
       "| 16 | character | Sim.Id              | 0 | 1 | 47 | 53 |   0 | 395 |  0 |           NA |           NA |         NA |           NA |         NA |           NA |         NA | NA    |\n",
       "| 17 | character | Meta.Data           | 0 | 1 | 28 | 28 |   0 | 395 |  0 |           NA |           NA |         NA |           NA |         NA |           NA |         NA | NA    |\n",
       "| 18 | numeric   | X                   | 0 | 1 | NA | NA |  NA |  NA | NA | 6.211367e+02 | 2.697953e+02 |          0 |        480.5 |        628 |        869.5 |        998 | ▂▁▇▅▇ |\n",
       "| 19 | numeric   | UserId              | 0 | 1 | NA | NA |  NA |  NA | NA | 1.288934e+07 | 3.149705e+05 |   12360866 |   12613543.0 |   12868065 |   13178491.5 |   13454400 | ▇▇▇▇▇ |\n",
       "| 20 | numeric   | Status              | 0 | 1 | NA | NA |  NA |  NA | NA | 1.000000e+00 | 0.000000e+00 |          1 |          1.0 |          1 |          1.0 |          1 | ▁▁▇▁▁ |\n",
       "| 21 | numeric   | Mobile              | 0 | 1 | NA | NA |  NA |  NA | NA | 8.929150e+09 | 6.508414e+08 | 7746046504 | 8416880878.0 | 8959229176 | 9495756396.0 | 9983590336 | ▆▇▇▇▇ |\n",
       "| 22 | numeric   | ProgramId           | 0 | 1 | NA | NA |  NA |  NA | NA | 6.019000e+03 | 0.000000e+00 |       6019 |       6019.0 |       6019 |       6019.0 |       6019 | ▁▁▇▁▁ |\n",
       "| 23 | numeric   | PostalCode          | 0 | 1 | NA | NA |  NA |  NA | NA | 5.353406e+05 | 1.792861e+05 |     236378 |     393660.5 |     509809 |     685814.0 |     876333 | ▇▇▇▆▆ |\n",
       "| 24 | numeric   | BadTryCount         | 0 | 1 | NA | NA |  NA |  NA | NA | 0.000000e+00 | 0.000000e+00 |          0 |          0.0 |          0 |          0.0 |          0 | ▁▁▇▁▁ |\n",
       "\n"
      ],
      "text/plain": []
     },
     "metadata": {},
     "output_type": "display_data"
    }
   ],
   "source": [
    "# skim through df, getting useful summary statistics\n",
    "skim(df)"
   ]
  },
  {
   "cell_type": "markdown",
   "metadata": {},
   "source": [
    "**Things to notice:**\n",
    "\n",
    "- *'Gender'* has 4 unique values. Typically, when dealing with the gender variable, we commonly encounter two distinct categories: Female and Male. However, it is noteworthy that in this particular dataset, we have 4 unique values present in this column. \n",
    "\n",
    "- *'Empty values':* An empty value indicates that a cell is empty not null (\"\"). To provide consistency and clarity within the dataset, it is a good practice to standardize the representation of these empty values. In this case, we will replace all the empty values with the label \"Unknown\".\n",
    "\n",
    "- *'Problems with data type:'* As I see, some data type in this dataset is not reasonable."
   ]
  },
  {
   "cell_type": "markdown",
   "metadata": {},
   "source": [
    "**Gender**"
   ]
  },
  {
   "cell_type": "code",
   "execution_count": 4,
   "metadata": {
    "vscode": {
     "languageId": "r"
    }
   },
   "outputs": [
    {
     "data": {
      "text/html": [
       "<style>\n",
       ".list-inline {list-style: none; margin:0; padding: 0}\n",
       ".list-inline>li {display: inline-block}\n",
       ".list-inline>li:not(:last-child)::after {content: \"\\00b7\"; padding: 0 .5ex}\n",
       "</style>\n",
       "<ol class=list-inline><li>'F'</li><li>'U'</li><li>'M'</li><li>''</li></ol>\n"
      ],
      "text/latex": [
       "\\begin{enumerate*}\n",
       "\\item 'F'\n",
       "\\item 'U'\n",
       "\\item 'M'\n",
       "\\item ''\n",
       "\\end{enumerate*}\n"
      ],
      "text/markdown": [
       "1. 'F'\n",
       "2. 'U'\n",
       "3. 'M'\n",
       "4. ''\n",
       "\n",
       "\n"
      ],
      "text/plain": [
       "[1] \"F\" \"U\" \"M\" \"\" "
      ]
     },
     "metadata": {},
     "output_type": "display_data"
    }
   ],
   "source": [
    "# extract unique elements of gender column\n",
    "unique(df$Gender)"
   ]
  },
  {
   "cell_type": "markdown",
   "metadata": {},
   "source": [
    "As we can observe, the *'Gender'* column has 4 unique values. We have the 'M' and 'F' stand for 'Male' and 'Female' as expected. Additionally, we also notice the presence of 2 values, U and \"\", which indicate unknown values. To maintain consistency within the dataset, we will replace both of these values with \"Unknown\"."
   ]
  },
  {
   "cell_type": "code",
   "execution_count": 5,
   "metadata": {
    "vscode": {
     "languageId": "r"
    }
   },
   "outputs": [
    {
     "data": {
      "text/html": [
       "<style>\n",
       ".list-inline {list-style: none; margin:0; padding: 0}\n",
       ".list-inline>li {display: inline-block}\n",
       ".list-inline>li:not(:last-child)::after {content: \"\\00b7\"; padding: 0 .5ex}\n",
       "</style>\n",
       "<ol class=list-inline><li>'F'</li><li>'Unknown'</li><li>'M'</li></ol>\n"
      ],
      "text/latex": [
       "\\begin{enumerate*}\n",
       "\\item 'F'\n",
       "\\item 'Unknown'\n",
       "\\item 'M'\n",
       "\\end{enumerate*}\n"
      ],
      "text/markdown": [
       "1. 'F'\n",
       "2. 'Unknown'\n",
       "3. 'M'\n",
       "\n",
       "\n"
      ],
      "text/plain": [
       "[1] \"F\"       \"Unknown\" \"M\"      "
      ]
     },
     "metadata": {},
     "output_type": "display_data"
    }
   ],
   "source": [
    "# replace values \"U\" and 'empty values' with \"Unknown\"\n",
    "df$Gender <- replace(df$Gender, df$Gender != \"M\" & df$Gender != \"F\", \"Unknown\")\n",
    "unique(df$Gender)"
   ]
  },
  {
   "cell_type": "markdown",
   "metadata": {},
   "source": [
    "**Empty value**\n",
    "\n",
    "As mention above, we should replace all the empty values with the label \"Unknown\" to make sure the consistency of the dataset."
   ]
  },
  {
   "cell_type": "code",
   "execution_count": 6,
   "metadata": {
    "vscode": {
     "languageId": "r"
    }
   },
   "outputs": [],
   "source": [
    "df[df == \"\"] <- \"Unknown\""
   ]
  },
  {
   "cell_type": "markdown",
   "metadata": {},
   "source": [
    "**Problems with data type**\n",
    "\n",
    "To ensure accurate data representation and facilitate appropriate data analysis, it is crucial to correctly assign and manage the data types within a dataset. By choosing the appropriate data types for each variable, we can enhance the efficiency, accuracy, and reliability of data processing and analysis."
   ]
  },
  {
   "cell_type": "code",
   "execution_count": 7,
   "metadata": {
    "vscode": {
     "languageId": "r"
    }
   },
   "outputs": [
    {
     "name": "stdout",
     "output_type": "stream",
     "text": [
      "'data.frame':\t395 obs. of  24 variables:\n",
      " $ X                  : chr  \"0\" \"1\" \"2\" \"3\" ...\n",
      " $ FirstName          : chr  \"smt\" \"shakshi\" \"anshu\" \"kanika\" ...\n",
      " $ LastName           : chr  \"shyani devi\" \"sagar\" \"d/o\" \"kathuria\" ...\n",
      " $ Dob                : Date, format: \"1985-05-28\" \"1998-06-09\" ...\n",
      " $ Gender             : Factor w/ 3 levels \"F\",\"M\",\"Unknown\": 1 1 1 1 3 3 2 1 1 3 ...\n",
      " $ UserId             : chr  \"13260350\" \"13454400\" \"13321313\" \"12444655\" ...\n",
      " $ Status             : Factor w/ 1 level \"1\": 1 1 1 1 1 1 1 1 1 1 ...\n",
      " $ Email              : chr  \"smtXXXXXX@gmail.com\" \"shaXXXXXX@gmail.com\" \"ansXXXXXX@gmail.com\" \"kanXXXXXX@gmail.com\" ...\n",
      " $ Mobile             : chr  \"8812569734\" \"8615389304\" \"8418054019\" \"8055221226\" ...\n",
      " $ ProgramId          : chr  \"6019\" \"6019\" \"6019\" \"6019\" ...\n",
      " $ ProgramName        : chr  \"PayZapp\" \"PayZapp\" \"PayZapp\" \"PayZapp\" ...\n",
      " $ PostalCode         : chr  \"509726\" \"772845\" \"377130\" \"534482\" ...\n",
      " $ BadTryCount        : Factor w/ 1 level \"0\": 1 1 1 1 1 1 1 1 1 1 ...\n",
      " $ LastLoginTime      : chr  \"00:23:00\" \"00:22:40\" \"00:22:32\" \"00:22:30\" ...\n",
      " $ PresentLoginTime   : chr  \"19:34:34\" \"18:58:54\" \"18:44:38\" \"18:41:04\" ...\n",
      " $ RegisteredOn       : POSIXct, format: \"2020-10-19 18:45:00\" \"2020-10-19 18:45:00\" ...\n",
      " $ OS.Type            : chr  \"Android\" \"Android\" \"ios\" \"ios\" ...\n",
      " $ Reg.Referral.Code  : chr  \"srpaa335\" \"srpaa345\" \"srpaa349\" \"srpaa350\" ...\n",
      " $ Reg.Referral.Prefix: chr  \"srpaa\" \"srpaa\" \"srpaa\" \"srpaa\" ...\n",
      " $ Ref.PC.AC.Number   : chr  \"IN017XXXXX1161\" \"IN017XXXXX1166\" \"IN017XXXXX1168\" \"IN012XXXXX1162\" ...\n",
      " $ Reg.Client.IP      : chr  \"111.94.41.232\" \"111.92.31.237\" \"111.94.91.346\" \"111.94.41.237\" ...\n",
      " $ Device.Id          : chr  \"faid:y46GHDAWDVBGF1937ETsdfhd56483GDSSAA=:22b12\" \"faid:y46GHDAWDVBGF1937ETsdfhd56483GDSSAA=:14b15\" \"iosvid:y46GHDAWDVBGF1937ETsdfhd56483GDSSAA=:81b16\" \"iosvid:y46GHDAWDVBGF1937ETsdfhd56483GDSSAA=:81b17\" ...\n",
      " $ Sim.Id             : chr  \"faid:y46GHDAWDVBGF1937ETsdfhd56483GDSSAA=:81b11\" \"faid:y46GHDAWDVBGF1937ETsdfhd56483GDSSAA=:22b15\" \"faid:y46GHDAWDVBGF1937ETsdfhd56483GDSSAA=:14b16\" \"iosvid:y46GHDAWDVBGF1937ETsdfhd56483GDSSAA=:81b16\" ...\n",
      " $ Meta.Data          : chr  \"56641ab-7e57-4962-a362a89985\" \"56641ab-7e57-4962-a362a89990\" \"56641ab-7e57-4962-a362a89992\" \"56641ab-7e53-4962-a362a89967\" ...\n"
     ]
    }
   ],
   "source": [
    "# change data to character type\n",
    "col_char <- c(\"X\", \"UserId\",\"Mobile\", \"ProgramId\", \"PostalCode\")\n",
    "df[col_char] <- sapply(df[col_char], as.character)\n",
    "\n",
    "# change data to factor type\n",
    "df$Gender <- factor(df$Gender)\n",
    "df$Status <- as.factor(df$Status)\n",
    "df$BadTryCount <- as.factor(df$BadTryCount)\n",
    "\n",
    "# change data to datetime type\n",
    "df$Dob <- dmy(df$Dob)\n",
    "df$RegisteredOn <- mdy_hm(df$RegisteredOn)\n",
    "\n",
    "str(df)"
   ]
  },
  {
   "cell_type": "markdown",
   "metadata": {},
   "source": [
    "**Review the data**"
   ]
  },
  {
   "cell_type": "code",
   "execution_count": 8,
   "metadata": {
    "vscode": {
     "languageId": "r"
    }
   },
   "outputs": [
    {
     "name": "stdout",
     "output_type": "stream",
     "text": [
      "── Data Summary ────────────────────────\n",
      "                           Values\n",
      "Name                       df    \n",
      "Number of rows             395   \n",
      "Number of columns          24    \n",
      "_______________________          \n",
      "Column type frequency:           \n",
      "  character                19    \n",
      "  Date                     1     \n",
      "  factor                   3     \n",
      "  POSIXct                  1     \n",
      "________________________         \n",
      "Group variables            None  \n",
      "\n",
      "── Variable type: character ────────────────────────────────────────────────────\n",
      "   skim_variable       n_missing complete_rate min max empty n_unique whitespace\n",
      "\u001b[90m 1\u001b[39m X                           0             1   1   3     0      395          0\n",
      "\u001b[90m 2\u001b[39m FirstName                   0             1   1  13     0      309          0\n",
      "\u001b[90m 3\u001b[39m LastName                    0             1   2  28     0      184          0\n",
      "\u001b[90m 4\u001b[39m UserId                      0             1   8   8     0      394          0\n",
      "\u001b[90m 5\u001b[39m Email                       0             1  17  19     0      220          0\n",
      "\u001b[90m 6\u001b[39m Mobile                      0             1  10  10     0      394          0\n",
      "\u001b[90m 7\u001b[39m ProgramId                   0             1   4   4     0        1          0\n",
      "\u001b[90m 8\u001b[39m ProgramName                 0             1   7   7     0        1          0\n",
      "\u001b[90m 9\u001b[39m PostalCode                  0             1   6   6     0      394          0\n",
      "\u001b[90m10\u001b[39m LastLoginTime               0             1   8  16     0      392          0\n",
      "\u001b[90m11\u001b[39m PresentLoginTime            0             1   8   8     0      394          0\n",
      "\u001b[90m12\u001b[39m OS.Type                     0             1   3   7     0        2          0\n",
      "\u001b[90m13\u001b[39m Reg.Referral.Code           0             1   6  10     0      363          0\n",
      "\u001b[90m14\u001b[39m Reg.Referral.Prefix         0             1   3   7     0        9          0\n",
      "\u001b[90m15\u001b[39m Ref.PC.AC.Number            0             1  14  14     0      369          0\n",
      "\u001b[90m16\u001b[39m Reg.Client.IP               0             1  10  14     0      395          0\n",
      "\u001b[90m17\u001b[39m Device.Id                   0             1  47  53     0      389          0\n",
      "\u001b[90m18\u001b[39m Sim.Id                      0             1  47  53     0      395          0\n",
      "\u001b[90m19\u001b[39m Meta.Data                   0             1  28  28     0      395          0\n",
      "\n",
      "── Variable type: Date ─────────────────────────────────────────────────────────\n",
      "  skim_variable n_missing complete_rate min        max        median    \n",
      "\u001b[90m1\u001b[39m Dob                   0             1 1975-01-27 2005-12-17 1990-06-27\n",
      "  n_unique\n",
      "\u001b[90m1\u001b[39m      392\n",
      "\n",
      "── Variable type: factor ───────────────────────────────────────────────────────\n",
      "  skim_variable n_missing complete_rate ordered n_unique top_counts            \n",
      "\u001b[90m1\u001b[39m Gender                0             1 FALSE          3 Unk: 345, F: 27, M: 23\n",
      "\u001b[90m2\u001b[39m Status                0             1 FALSE          1 1: 395                \n",
      "\u001b[90m3\u001b[39m BadTryCount           0             1 FALSE          1 0: 395                \n",
      "\n",
      "── Variable type: POSIXct ──────────────────────────────────────────────────────\n",
      "  skim_variable n_missing complete_rate min                 max                \n",
      "\u001b[90m1\u001b[39m RegisteredOn          0             1 2020-10-19 \u001b[90m18:45:00\u001b[39m 2020-10-19 \u001b[90m19:00:00\u001b[39m\n",
      "  median              n_unique\n",
      "\u001b[90m1\u001b[39m 2020-10-19 \u001b[90m19:00:00\u001b[39m        3\n"
     ]
    },
    {
     "name": "stderr",
     "output_type": "stream",
     "text": [
      "Warning message in is.null(text_repr) || nchar(text_repr) == 0L:\n",
      "\"'length(x) = 20 > 1' in coercion to 'logical(1)'\"\n"
     ]
    },
    {
     "data": {
      "text/html": [
       "<table class=\"dataframe\">\n",
       "<caption>A skim_df: 24 × 20</caption>\n",
       "<thead>\n",
       "\t<tr><th></th><th scope=col>skim_type</th><th scope=col>skim_variable</th><th scope=col>n_missing</th><th scope=col>complete_rate</th><th scope=col>Date.min</th><th scope=col>Date.max</th><th scope=col>Date.median</th><th scope=col>Date.n_unique</th><th scope=col>POSIXct.min</th><th scope=col>POSIXct.max</th><th scope=col>POSIXct.median</th><th scope=col>POSIXct.n_unique</th><th scope=col>character.min</th><th scope=col>character.max</th><th scope=col>character.empty</th><th scope=col>character.n_unique</th><th scope=col>character.whitespace</th><th scope=col>factor.ordered</th><th scope=col>factor.n_unique</th><th scope=col>factor.top_counts</th></tr>\n",
       "\t<tr><th></th><th scope=col>&lt;chr&gt;</th><th scope=col>&lt;chr&gt;</th><th scope=col>&lt;int&gt;</th><th scope=col>&lt;dbl&gt;</th><th scope=col>&lt;date&gt;</th><th scope=col>&lt;date&gt;</th><th scope=col>&lt;date&gt;</th><th scope=col>&lt;int&gt;</th><th scope=col>&lt;dttm&gt;</th><th scope=col>&lt;dttm&gt;</th><th scope=col>&lt;dttm&gt;</th><th scope=col>&lt;int&gt;</th><th scope=col>&lt;int&gt;</th><th scope=col>&lt;int&gt;</th><th scope=col>&lt;int&gt;</th><th scope=col>&lt;int&gt;</th><th scope=col>&lt;int&gt;</th><th scope=col>&lt;lgl&gt;</th><th scope=col>&lt;int&gt;</th><th scope=col>&lt;chr&gt;</th></tr>\n",
       "</thead>\n",
       "<tbody>\n",
       "\t<tr><th scope=row>1</th><td>Date     </td><td>Dob                </td><td>0</td><td>1</td><td>1975-01-27</td><td>2005-12-17</td><td>1990-06-27</td><td>392</td><td>NA</td><td>NA</td><td>NA</td><td>NA</td><td>NA</td><td>NA</td><td>NA</td><td> NA</td><td>NA</td><td>   NA</td><td>NA</td><td>NA                    </td></tr>\n",
       "\t<tr><th scope=row>2</th><td>POSIXct  </td><td>RegisteredOn       </td><td>0</td><td>1</td><td>NA</td><td>NA</td><td>NA</td><td> NA</td><td>2020-10-19 18:45:00</td><td>2020-10-19 19:00:00</td><td>2020-10-19 19:00:00</td><td> 3</td><td>NA</td><td>NA</td><td>NA</td><td> NA</td><td>NA</td><td>   NA</td><td>NA</td><td>NA                    </td></tr>\n",
       "\t<tr><th scope=row>3</th><td>character</td><td>X                  </td><td>0</td><td>1</td><td>NA</td><td>NA</td><td>NA</td><td> NA</td><td>NA</td><td>NA</td><td>NA</td><td>NA</td><td> 1</td><td> 3</td><td> 0</td><td>395</td><td> 0</td><td>   NA</td><td>NA</td><td>NA                    </td></tr>\n",
       "\t<tr><th scope=row>4</th><td>character</td><td>FirstName          </td><td>0</td><td>1</td><td>NA</td><td>NA</td><td>NA</td><td> NA</td><td>NA</td><td>NA</td><td>NA</td><td>NA</td><td> 1</td><td>13</td><td> 0</td><td>309</td><td> 0</td><td>   NA</td><td>NA</td><td>NA                    </td></tr>\n",
       "\t<tr><th scope=row>5</th><td>character</td><td>LastName           </td><td>0</td><td>1</td><td>NA</td><td>NA</td><td>NA</td><td> NA</td><td>NA</td><td>NA</td><td>NA</td><td>NA</td><td> 2</td><td>28</td><td> 0</td><td>184</td><td> 0</td><td>   NA</td><td>NA</td><td>NA                    </td></tr>\n",
       "\t<tr><th scope=row>6</th><td>character</td><td>UserId             </td><td>0</td><td>1</td><td>NA</td><td>NA</td><td>NA</td><td> NA</td><td>NA</td><td>NA</td><td>NA</td><td>NA</td><td> 8</td><td> 8</td><td> 0</td><td>394</td><td> 0</td><td>   NA</td><td>NA</td><td>NA                    </td></tr>\n",
       "\t<tr><th scope=row>7</th><td>character</td><td>Email              </td><td>0</td><td>1</td><td>NA</td><td>NA</td><td>NA</td><td> NA</td><td>NA</td><td>NA</td><td>NA</td><td>NA</td><td>17</td><td>19</td><td> 0</td><td>220</td><td> 0</td><td>   NA</td><td>NA</td><td>NA                    </td></tr>\n",
       "\t<tr><th scope=row>8</th><td>character</td><td>Mobile             </td><td>0</td><td>1</td><td>NA</td><td>NA</td><td>NA</td><td> NA</td><td>NA</td><td>NA</td><td>NA</td><td>NA</td><td>10</td><td>10</td><td> 0</td><td>394</td><td> 0</td><td>   NA</td><td>NA</td><td>NA                    </td></tr>\n",
       "\t<tr><th scope=row>9</th><td>character</td><td>ProgramId          </td><td>0</td><td>1</td><td>NA</td><td>NA</td><td>NA</td><td> NA</td><td>NA</td><td>NA</td><td>NA</td><td>NA</td><td> 4</td><td> 4</td><td> 0</td><td>  1</td><td> 0</td><td>   NA</td><td>NA</td><td>NA                    </td></tr>\n",
       "\t<tr><th scope=row>10</th><td>character</td><td>ProgramName        </td><td>0</td><td>1</td><td>NA</td><td>NA</td><td>NA</td><td> NA</td><td>NA</td><td>NA</td><td>NA</td><td>NA</td><td> 7</td><td> 7</td><td> 0</td><td>  1</td><td> 0</td><td>   NA</td><td>NA</td><td>NA                    </td></tr>\n",
       "\t<tr><th scope=row>11</th><td>character</td><td>PostalCode         </td><td>0</td><td>1</td><td>NA</td><td>NA</td><td>NA</td><td> NA</td><td>NA</td><td>NA</td><td>NA</td><td>NA</td><td> 6</td><td> 6</td><td> 0</td><td>394</td><td> 0</td><td>   NA</td><td>NA</td><td>NA                    </td></tr>\n",
       "\t<tr><th scope=row>12</th><td>character</td><td>LastLoginTime      </td><td>0</td><td>1</td><td>NA</td><td>NA</td><td>NA</td><td> NA</td><td>NA</td><td>NA</td><td>NA</td><td>NA</td><td> 8</td><td>16</td><td> 0</td><td>392</td><td> 0</td><td>   NA</td><td>NA</td><td>NA                    </td></tr>\n",
       "\t<tr><th scope=row>13</th><td>character</td><td>PresentLoginTime   </td><td>0</td><td>1</td><td>NA</td><td>NA</td><td>NA</td><td> NA</td><td>NA</td><td>NA</td><td>NA</td><td>NA</td><td> 8</td><td> 8</td><td> 0</td><td>394</td><td> 0</td><td>   NA</td><td>NA</td><td>NA                    </td></tr>\n",
       "\t<tr><th scope=row>14</th><td>character</td><td>OS.Type            </td><td>0</td><td>1</td><td>NA</td><td>NA</td><td>NA</td><td> NA</td><td>NA</td><td>NA</td><td>NA</td><td>NA</td><td> 3</td><td> 7</td><td> 0</td><td>  2</td><td> 0</td><td>   NA</td><td>NA</td><td>NA                    </td></tr>\n",
       "\t<tr><th scope=row>15</th><td>character</td><td>Reg.Referral.Code  </td><td>0</td><td>1</td><td>NA</td><td>NA</td><td>NA</td><td> NA</td><td>NA</td><td>NA</td><td>NA</td><td>NA</td><td> 6</td><td>10</td><td> 0</td><td>363</td><td> 0</td><td>   NA</td><td>NA</td><td>NA                    </td></tr>\n",
       "\t<tr><th scope=row>16</th><td>character</td><td>Reg.Referral.Prefix</td><td>0</td><td>1</td><td>NA</td><td>NA</td><td>NA</td><td> NA</td><td>NA</td><td>NA</td><td>NA</td><td>NA</td><td> 3</td><td> 7</td><td> 0</td><td>  9</td><td> 0</td><td>   NA</td><td>NA</td><td>NA                    </td></tr>\n",
       "\t<tr><th scope=row>17</th><td>character</td><td>Ref.PC.AC.Number   </td><td>0</td><td>1</td><td>NA</td><td>NA</td><td>NA</td><td> NA</td><td>NA</td><td>NA</td><td>NA</td><td>NA</td><td>14</td><td>14</td><td> 0</td><td>369</td><td> 0</td><td>   NA</td><td>NA</td><td>NA                    </td></tr>\n",
       "\t<tr><th scope=row>18</th><td>character</td><td>Reg.Client.IP      </td><td>0</td><td>1</td><td>NA</td><td>NA</td><td>NA</td><td> NA</td><td>NA</td><td>NA</td><td>NA</td><td>NA</td><td>10</td><td>14</td><td> 0</td><td>395</td><td> 0</td><td>   NA</td><td>NA</td><td>NA                    </td></tr>\n",
       "\t<tr><th scope=row>19</th><td>character</td><td>Device.Id          </td><td>0</td><td>1</td><td>NA</td><td>NA</td><td>NA</td><td> NA</td><td>NA</td><td>NA</td><td>NA</td><td>NA</td><td>47</td><td>53</td><td> 0</td><td>389</td><td> 0</td><td>   NA</td><td>NA</td><td>NA                    </td></tr>\n",
       "\t<tr><th scope=row>20</th><td>character</td><td>Sim.Id             </td><td>0</td><td>1</td><td>NA</td><td>NA</td><td>NA</td><td> NA</td><td>NA</td><td>NA</td><td>NA</td><td>NA</td><td>47</td><td>53</td><td> 0</td><td>395</td><td> 0</td><td>   NA</td><td>NA</td><td>NA                    </td></tr>\n",
       "\t<tr><th scope=row>21</th><td>character</td><td>Meta.Data          </td><td>0</td><td>1</td><td>NA</td><td>NA</td><td>NA</td><td> NA</td><td>NA</td><td>NA</td><td>NA</td><td>NA</td><td>28</td><td>28</td><td> 0</td><td>395</td><td> 0</td><td>   NA</td><td>NA</td><td>NA                    </td></tr>\n",
       "\t<tr><th scope=row>22</th><td>factor   </td><td>Gender             </td><td>0</td><td>1</td><td>NA</td><td>NA</td><td>NA</td><td> NA</td><td>NA</td><td>NA</td><td>NA</td><td>NA</td><td>NA</td><td>NA</td><td>NA</td><td> NA</td><td>NA</td><td>FALSE</td><td> 3</td><td>Unk: 345, F: 27, M: 23</td></tr>\n",
       "\t<tr><th scope=row>23</th><td>factor   </td><td>Status             </td><td>0</td><td>1</td><td>NA</td><td>NA</td><td>NA</td><td> NA</td><td>NA</td><td>NA</td><td>NA</td><td>NA</td><td>NA</td><td>NA</td><td>NA</td><td> NA</td><td>NA</td><td>FALSE</td><td> 1</td><td>1: 395                </td></tr>\n",
       "\t<tr><th scope=row>24</th><td>factor   </td><td>BadTryCount        </td><td>0</td><td>1</td><td>NA</td><td>NA</td><td>NA</td><td> NA</td><td>NA</td><td>NA</td><td>NA</td><td>NA</td><td>NA</td><td>NA</td><td>NA</td><td> NA</td><td>NA</td><td>FALSE</td><td> 1</td><td>0: 395                </td></tr>\n",
       "</tbody>\n",
       "</table>\n"
      ],
      "text/latex": [
       "A skim\\_df: 24 × 20\n",
       "\\begin{tabular}{r|llllllllllllllllllll}\n",
       "  & skim\\_type & skim\\_variable & n\\_missing & complete\\_rate & Date.min & Date.max & Date.median & Date.n\\_unique & POSIXct.min & POSIXct.max & POSIXct.median & POSIXct.n\\_unique & character.min & character.max & character.empty & character.n\\_unique & character.whitespace & factor.ordered & factor.n\\_unique & factor.top\\_counts\\\\\n",
       "  & <chr> & <chr> & <int> & <dbl> & <date> & <date> & <date> & <int> & <dttm> & <dttm> & <dttm> & <int> & <int> & <int> & <int> & <int> & <int> & <lgl> & <int> & <chr>\\\\\n",
       "\\hline\n",
       "\t1 & Date      & Dob                 & 0 & 1 & 1975-01-27 & 2005-12-17 & 1990-06-27 & 392 & NA & NA & NA & NA & NA & NA & NA &  NA & NA &    NA & NA & NA                    \\\\\n",
       "\t2 & POSIXct   & RegisteredOn        & 0 & 1 & NA & NA & NA &  NA & 2020-10-19 18:45:00 & 2020-10-19 19:00:00 & 2020-10-19 19:00:00 &  3 & NA & NA & NA &  NA & NA &    NA & NA & NA                    \\\\\n",
       "\t3 & character & X                   & 0 & 1 & NA & NA & NA &  NA & NA & NA & NA & NA &  1 &  3 &  0 & 395 &  0 &    NA & NA & NA                    \\\\\n",
       "\t4 & character & FirstName           & 0 & 1 & NA & NA & NA &  NA & NA & NA & NA & NA &  1 & 13 &  0 & 309 &  0 &    NA & NA & NA                    \\\\\n",
       "\t5 & character & LastName            & 0 & 1 & NA & NA & NA &  NA & NA & NA & NA & NA &  2 & 28 &  0 & 184 &  0 &    NA & NA & NA                    \\\\\n",
       "\t6 & character & UserId              & 0 & 1 & NA & NA & NA &  NA & NA & NA & NA & NA &  8 &  8 &  0 & 394 &  0 &    NA & NA & NA                    \\\\\n",
       "\t7 & character & Email               & 0 & 1 & NA & NA & NA &  NA & NA & NA & NA & NA & 17 & 19 &  0 & 220 &  0 &    NA & NA & NA                    \\\\\n",
       "\t8 & character & Mobile              & 0 & 1 & NA & NA & NA &  NA & NA & NA & NA & NA & 10 & 10 &  0 & 394 &  0 &    NA & NA & NA                    \\\\\n",
       "\t9 & character & ProgramId           & 0 & 1 & NA & NA & NA &  NA & NA & NA & NA & NA &  4 &  4 &  0 &   1 &  0 &    NA & NA & NA                    \\\\\n",
       "\t10 & character & ProgramName         & 0 & 1 & NA & NA & NA &  NA & NA & NA & NA & NA &  7 &  7 &  0 &   1 &  0 &    NA & NA & NA                    \\\\\n",
       "\t11 & character & PostalCode          & 0 & 1 & NA & NA & NA &  NA & NA & NA & NA & NA &  6 &  6 &  0 & 394 &  0 &    NA & NA & NA                    \\\\\n",
       "\t12 & character & LastLoginTime       & 0 & 1 & NA & NA & NA &  NA & NA & NA & NA & NA &  8 & 16 &  0 & 392 &  0 &    NA & NA & NA                    \\\\\n",
       "\t13 & character & PresentLoginTime    & 0 & 1 & NA & NA & NA &  NA & NA & NA & NA & NA &  8 &  8 &  0 & 394 &  0 &    NA & NA & NA                    \\\\\n",
       "\t14 & character & OS.Type             & 0 & 1 & NA & NA & NA &  NA & NA & NA & NA & NA &  3 &  7 &  0 &   2 &  0 &    NA & NA & NA                    \\\\\n",
       "\t15 & character & Reg.Referral.Code   & 0 & 1 & NA & NA & NA &  NA & NA & NA & NA & NA &  6 & 10 &  0 & 363 &  0 &    NA & NA & NA                    \\\\\n",
       "\t16 & character & Reg.Referral.Prefix & 0 & 1 & NA & NA & NA &  NA & NA & NA & NA & NA &  3 &  7 &  0 &   9 &  0 &    NA & NA & NA                    \\\\\n",
       "\t17 & character & Ref.PC.AC.Number    & 0 & 1 & NA & NA & NA &  NA & NA & NA & NA & NA & 14 & 14 &  0 & 369 &  0 &    NA & NA & NA                    \\\\\n",
       "\t18 & character & Reg.Client.IP       & 0 & 1 & NA & NA & NA &  NA & NA & NA & NA & NA & 10 & 14 &  0 & 395 &  0 &    NA & NA & NA                    \\\\\n",
       "\t19 & character & Device.Id           & 0 & 1 & NA & NA & NA &  NA & NA & NA & NA & NA & 47 & 53 &  0 & 389 &  0 &    NA & NA & NA                    \\\\\n",
       "\t20 & character & Sim.Id              & 0 & 1 & NA & NA & NA &  NA & NA & NA & NA & NA & 47 & 53 &  0 & 395 &  0 &    NA & NA & NA                    \\\\\n",
       "\t21 & character & Meta.Data           & 0 & 1 & NA & NA & NA &  NA & NA & NA & NA & NA & 28 & 28 &  0 & 395 &  0 &    NA & NA & NA                    \\\\\n",
       "\t22 & factor    & Gender              & 0 & 1 & NA & NA & NA &  NA & NA & NA & NA & NA & NA & NA & NA &  NA & NA & FALSE &  3 & Unk: 345, F: 27, M: 23\\\\\n",
       "\t23 & factor    & Status              & 0 & 1 & NA & NA & NA &  NA & NA & NA & NA & NA & NA & NA & NA &  NA & NA & FALSE &  1 & 1: 395                \\\\\n",
       "\t24 & factor    & BadTryCount         & 0 & 1 & NA & NA & NA &  NA & NA & NA & NA & NA & NA & NA & NA &  NA & NA & FALSE &  1 & 0: 395                \\\\\n",
       "\\end{tabular}\n"
      ],
      "text/markdown": [
       "\n",
       "A skim_df: 24 × 20\n",
       "\n",
       "| <!--/--> | skim_type &lt;chr&gt; | skim_variable &lt;chr&gt; | n_missing &lt;int&gt; | complete_rate &lt;dbl&gt; | Date.min &lt;date&gt; | Date.max &lt;date&gt; | Date.median &lt;date&gt; | Date.n_unique &lt;int&gt; | POSIXct.min &lt;dttm&gt; | POSIXct.max &lt;dttm&gt; | POSIXct.median &lt;dttm&gt; | POSIXct.n_unique &lt;int&gt; | character.min &lt;int&gt; | character.max &lt;int&gt; | character.empty &lt;int&gt; | character.n_unique &lt;int&gt; | character.whitespace &lt;int&gt; | factor.ordered &lt;lgl&gt; | factor.n_unique &lt;int&gt; | factor.top_counts &lt;chr&gt; |\n",
       "|---|---|---|---|---|---|---|---|---|---|---|---|---|---|---|---|---|---|---|---|---|\n",
       "| 1 | Date      | Dob                 | 0 | 1 | 1975-01-27 | 2005-12-17 | 1990-06-27 | 392 | NA | NA | NA | NA | NA | NA | NA |  NA | NA |    NA | NA | NA                     |\n",
       "| 2 | POSIXct   | RegisteredOn        | 0 | 1 | NA | NA | NA |  NA | 2020-10-19 18:45:00 | 2020-10-19 19:00:00 | 2020-10-19 19:00:00 |  3 | NA | NA | NA |  NA | NA |    NA | NA | NA                     |\n",
       "| 3 | character | X                   | 0 | 1 | NA | NA | NA |  NA | NA | NA | NA | NA |  1 |  3 |  0 | 395 |  0 |    NA | NA | NA                     |\n",
       "| 4 | character | FirstName           | 0 | 1 | NA | NA | NA |  NA | NA | NA | NA | NA |  1 | 13 |  0 | 309 |  0 |    NA | NA | NA                     |\n",
       "| 5 | character | LastName            | 0 | 1 | NA | NA | NA |  NA | NA | NA | NA | NA |  2 | 28 |  0 | 184 |  0 |    NA | NA | NA                     |\n",
       "| 6 | character | UserId              | 0 | 1 | NA | NA | NA |  NA | NA | NA | NA | NA |  8 |  8 |  0 | 394 |  0 |    NA | NA | NA                     |\n",
       "| 7 | character | Email               | 0 | 1 | NA | NA | NA |  NA | NA | NA | NA | NA | 17 | 19 |  0 | 220 |  0 |    NA | NA | NA                     |\n",
       "| 8 | character | Mobile              | 0 | 1 | NA | NA | NA |  NA | NA | NA | NA | NA | 10 | 10 |  0 | 394 |  0 |    NA | NA | NA                     |\n",
       "| 9 | character | ProgramId           | 0 | 1 | NA | NA | NA |  NA | NA | NA | NA | NA |  4 |  4 |  0 |   1 |  0 |    NA | NA | NA                     |\n",
       "| 10 | character | ProgramName         | 0 | 1 | NA | NA | NA |  NA | NA | NA | NA | NA |  7 |  7 |  0 |   1 |  0 |    NA | NA | NA                     |\n",
       "| 11 | character | PostalCode          | 0 | 1 | NA | NA | NA |  NA | NA | NA | NA | NA |  6 |  6 |  0 | 394 |  0 |    NA | NA | NA                     |\n",
       "| 12 | character | LastLoginTime       | 0 | 1 | NA | NA | NA |  NA | NA | NA | NA | NA |  8 | 16 |  0 | 392 |  0 |    NA | NA | NA                     |\n",
       "| 13 | character | PresentLoginTime    | 0 | 1 | NA | NA | NA |  NA | NA | NA | NA | NA |  8 |  8 |  0 | 394 |  0 |    NA | NA | NA                     |\n",
       "| 14 | character | OS.Type             | 0 | 1 | NA | NA | NA |  NA | NA | NA | NA | NA |  3 |  7 |  0 |   2 |  0 |    NA | NA | NA                     |\n",
       "| 15 | character | Reg.Referral.Code   | 0 | 1 | NA | NA | NA |  NA | NA | NA | NA | NA |  6 | 10 |  0 | 363 |  0 |    NA | NA | NA                     |\n",
       "| 16 | character | Reg.Referral.Prefix | 0 | 1 | NA | NA | NA |  NA | NA | NA | NA | NA |  3 |  7 |  0 |   9 |  0 |    NA | NA | NA                     |\n",
       "| 17 | character | Ref.PC.AC.Number    | 0 | 1 | NA | NA | NA |  NA | NA | NA | NA | NA | 14 | 14 |  0 | 369 |  0 |    NA | NA | NA                     |\n",
       "| 18 | character | Reg.Client.IP       | 0 | 1 | NA | NA | NA |  NA | NA | NA | NA | NA | 10 | 14 |  0 | 395 |  0 |    NA | NA | NA                     |\n",
       "| 19 | character | Device.Id           | 0 | 1 | NA | NA | NA |  NA | NA | NA | NA | NA | 47 | 53 |  0 | 389 |  0 |    NA | NA | NA                     |\n",
       "| 20 | character | Sim.Id              | 0 | 1 | NA | NA | NA |  NA | NA | NA | NA | NA | 47 | 53 |  0 | 395 |  0 |    NA | NA | NA                     |\n",
       "| 21 | character | Meta.Data           | 0 | 1 | NA | NA | NA |  NA | NA | NA | NA | NA | 28 | 28 |  0 | 395 |  0 |    NA | NA | NA                     |\n",
       "| 22 | factor    | Gender              | 0 | 1 | NA | NA | NA |  NA | NA | NA | NA | NA | NA | NA | NA |  NA | NA | FALSE |  3 | Unk: 345, F: 27, M: 23 |\n",
       "| 23 | factor    | Status              | 0 | 1 | NA | NA | NA |  NA | NA | NA | NA | NA | NA | NA | NA |  NA | NA | FALSE |  1 | 1: 395                 |\n",
       "| 24 | factor    | BadTryCount         | 0 | 1 | NA | NA | NA |  NA | NA | NA | NA | NA | NA | NA | NA |  NA | NA | FALSE |  1 | 0: 395                 |\n",
       "\n"
      ],
      "text/plain": []
     },
     "metadata": {},
     "output_type": "display_data"
    }
   ],
   "source": [
    "skim(df)"
   ]
  },
  {
   "cell_type": "markdown",
   "metadata": {},
   "source": [
    "**Delete all the columns have unique and stable values**\n",
    "\n",
    "In order to build a model that effectively captures the relevant information and produces meaningful insights, it is essential to carefully select the columns to be included. Columns with unique and stable values do not contribute significant information to the modeling process. Hence, it is recommended to remove such columns from the dataset. "
   ]
  },
  {
   "cell_type": "code",
   "execution_count": 9,
   "metadata": {
    "vscode": {
     "languageId": "r"
    }
   },
   "outputs": [
    {
     "data": {
      "text/html": [
       "<table class=\"dataframe\">\n",
       "<caption>A data.frame: 6 × 16</caption>\n",
       "<thead>\n",
       "\t<tr><th></th><th scope=col>FirstName</th><th scope=col>LastName</th><th scope=col>Dob</th><th scope=col>Gender</th><th scope=col>UserId</th><th scope=col>Email</th><th scope=col>Mobile</th><th scope=col>PostalCode</th><th scope=col>LastLoginTime</th><th scope=col>PresentLoginTime</th><th scope=col>RegisteredOn</th><th scope=col>OS.Type</th><th scope=col>Reg.Referral.Code</th><th scope=col>Reg.Referral.Prefix</th><th scope=col>Ref.PC.AC.Number</th><th scope=col>Device.Id</th></tr>\n",
       "\t<tr><th></th><th scope=col>&lt;chr&gt;</th><th scope=col>&lt;chr&gt;</th><th scope=col>&lt;date&gt;</th><th scope=col>&lt;fct&gt;</th><th scope=col>&lt;chr&gt;</th><th scope=col>&lt;chr&gt;</th><th scope=col>&lt;chr&gt;</th><th scope=col>&lt;chr&gt;</th><th scope=col>&lt;chr&gt;</th><th scope=col>&lt;chr&gt;</th><th scope=col>&lt;dttm&gt;</th><th scope=col>&lt;chr&gt;</th><th scope=col>&lt;chr&gt;</th><th scope=col>&lt;chr&gt;</th><th scope=col>&lt;chr&gt;</th><th scope=col>&lt;chr&gt;</th></tr>\n",
       "</thead>\n",
       "<tbody>\n",
       "\t<tr><th scope=row>1</th><td>smt    </td><td>shyani devi </td><td>1985-05-28</td><td>F      </td><td>13260350</td><td>smtXXXXXX@gmail.com</td><td>8812569734</td><td>509726</td><td>00:23:00</td><td>19:34:34</td><td>2020-10-19 18:45:00</td><td>Android</td><td>srpaa335</td><td>srpaa</td><td>IN017XXXXX1161</td><td>faid:y46GHDAWDVBGF1937ETsdfhd56483GDSSAA=:22b12  </td></tr>\n",
       "\t<tr><th scope=row>2</th><td>shakshi</td><td>sagar       </td><td>1998-06-09</td><td>F      </td><td>13454400</td><td>shaXXXXXX@gmail.com</td><td>8615389304</td><td>772845</td><td>00:22:40</td><td>18:58:54</td><td>2020-10-19 18:45:00</td><td>Android</td><td>srpaa345</td><td>srpaa</td><td>IN017XXXXX1166</td><td>faid:y46GHDAWDVBGF1937ETsdfhd56483GDSSAA=:14b15  </td></tr>\n",
       "\t<tr><th scope=row>3</th><td>anshu  </td><td>d/o         </td><td>2001-11-23</td><td>F      </td><td>13321313</td><td>ansXXXXXX@gmail.com</td><td>8418054019</td><td>377130</td><td>00:22:32</td><td>18:44:38</td><td>2020-10-19 18:45:00</td><td>ios    </td><td>srpaa349</td><td>srpaa</td><td>IN017XXXXX1168</td><td>iosvid:y46GHDAWDVBGF1937ETsdfhd56483GDSSAA=:81b16</td></tr>\n",
       "\t<tr><th scope=row>4</th><td>kanika </td><td>kathuria    </td><td>2001-06-20</td><td>F      </td><td>12444655</td><td>kanXXXXXX@gmail.com</td><td>8055221226</td><td>534482</td><td>00:22:30</td><td>18:41:04</td><td>2020-10-19 18:45:00</td><td>ios    </td><td>srpaa350</td><td>srpaa</td><td>IN012XXXXX1162</td><td>iosvid:y46GHDAWDVBGF1937ETsdfhd56483GDSSAA=:81b17</td></tr>\n",
       "\t<tr><th scope=row>5</th><td>riya   </td><td>masi        </td><td>2005-07-18</td><td>Unknown</td><td>12547615</td><td>riyXXXXXX@gmail.com</td><td>8556603655</td><td>258413</td><td>00:22:12</td><td>18:08:58</td><td>2020-10-19 18:45:00</td><td>Android</td><td>srpaa359</td><td>srpaa</td><td>IN017XXXXX1173</td><td>faid:y46GHDAWDVBGF1937ETsdfhd56483GDSSAA=:22b20  </td></tr>\n",
       "\t<tr><th scope=row>6</th><td>leela  </td><td>with a child</td><td>1987-04-13</td><td>Unknown</td><td>12379326</td><td>leeXXXXXX@gmail.com</td><td>9396979136</td><td>261600</td><td>00:22:08</td><td>18:01:50</td><td>2020-10-19 18:45:00</td><td>Android</td><td>srpaa361</td><td>srpaa</td><td>IN017XXXXX1174</td><td>faid:y46GHDAWDVBGF1937ETsdfhd56483GDSSAA=:81b20  </td></tr>\n",
       "</tbody>\n",
       "</table>\n"
      ],
      "text/latex": [
       "A data.frame: 6 × 16\n",
       "\\begin{tabular}{r|llllllllllllllll}\n",
       "  & FirstName & LastName & Dob & Gender & UserId & Email & Mobile & PostalCode & LastLoginTime & PresentLoginTime & RegisteredOn & OS.Type & Reg.Referral.Code & Reg.Referral.Prefix & Ref.PC.AC.Number & Device.Id\\\\\n",
       "  & <chr> & <chr> & <date> & <fct> & <chr> & <chr> & <chr> & <chr> & <chr> & <chr> & <dttm> & <chr> & <chr> & <chr> & <chr> & <chr>\\\\\n",
       "\\hline\n",
       "\t1 & smt     & shyani devi  & 1985-05-28 & F       & 13260350 & smtXXXXXX@gmail.com & 8812569734 & 509726 & 00:23:00 & 19:34:34 & 2020-10-19 18:45:00 & Android & srpaa335 & srpaa & IN017XXXXX1161 & faid:y46GHDAWDVBGF1937ETsdfhd56483GDSSAA=:22b12  \\\\\n",
       "\t2 & shakshi & sagar        & 1998-06-09 & F       & 13454400 & shaXXXXXX@gmail.com & 8615389304 & 772845 & 00:22:40 & 18:58:54 & 2020-10-19 18:45:00 & Android & srpaa345 & srpaa & IN017XXXXX1166 & faid:y46GHDAWDVBGF1937ETsdfhd56483GDSSAA=:14b15  \\\\\n",
       "\t3 & anshu   & d/o          & 2001-11-23 & F       & 13321313 & ansXXXXXX@gmail.com & 8418054019 & 377130 & 00:22:32 & 18:44:38 & 2020-10-19 18:45:00 & ios     & srpaa349 & srpaa & IN017XXXXX1168 & iosvid:y46GHDAWDVBGF1937ETsdfhd56483GDSSAA=:81b16\\\\\n",
       "\t4 & kanika  & kathuria     & 2001-06-20 & F       & 12444655 & kanXXXXXX@gmail.com & 8055221226 & 534482 & 00:22:30 & 18:41:04 & 2020-10-19 18:45:00 & ios     & srpaa350 & srpaa & IN012XXXXX1162 & iosvid:y46GHDAWDVBGF1937ETsdfhd56483GDSSAA=:81b17\\\\\n",
       "\t5 & riya    & masi         & 2005-07-18 & Unknown & 12547615 & riyXXXXXX@gmail.com & 8556603655 & 258413 & 00:22:12 & 18:08:58 & 2020-10-19 18:45:00 & Android & srpaa359 & srpaa & IN017XXXXX1173 & faid:y46GHDAWDVBGF1937ETsdfhd56483GDSSAA=:22b20  \\\\\n",
       "\t6 & leela   & with a child & 1987-04-13 & Unknown & 12379326 & leeXXXXXX@gmail.com & 9396979136 & 261600 & 00:22:08 & 18:01:50 & 2020-10-19 18:45:00 & Android & srpaa361 & srpaa & IN017XXXXX1174 & faid:y46GHDAWDVBGF1937ETsdfhd56483GDSSAA=:81b20  \\\\\n",
       "\\end{tabular}\n"
      ],
      "text/markdown": [
       "\n",
       "A data.frame: 6 × 16\n",
       "\n",
       "| <!--/--> | FirstName &lt;chr&gt; | LastName &lt;chr&gt; | Dob &lt;date&gt; | Gender &lt;fct&gt; | UserId &lt;chr&gt; | Email &lt;chr&gt; | Mobile &lt;chr&gt; | PostalCode &lt;chr&gt; | LastLoginTime &lt;chr&gt; | PresentLoginTime &lt;chr&gt; | RegisteredOn &lt;dttm&gt; | OS.Type &lt;chr&gt; | Reg.Referral.Code &lt;chr&gt; | Reg.Referral.Prefix &lt;chr&gt; | Ref.PC.AC.Number &lt;chr&gt; | Device.Id &lt;chr&gt; |\n",
       "|---|---|---|---|---|---|---|---|---|---|---|---|---|---|---|---|---|\n",
       "| 1 | smt     | shyani devi  | 1985-05-28 | F       | 13260350 | smtXXXXXX@gmail.com | 8812569734 | 509726 | 00:23:00 | 19:34:34 | 2020-10-19 18:45:00 | Android | srpaa335 | srpaa | IN017XXXXX1161 | faid:y46GHDAWDVBGF1937ETsdfhd56483GDSSAA=:22b12   |\n",
       "| 2 | shakshi | sagar        | 1998-06-09 | F       | 13454400 | shaXXXXXX@gmail.com | 8615389304 | 772845 | 00:22:40 | 18:58:54 | 2020-10-19 18:45:00 | Android | srpaa345 | srpaa | IN017XXXXX1166 | faid:y46GHDAWDVBGF1937ETsdfhd56483GDSSAA=:14b15   |\n",
       "| 3 | anshu   | d/o          | 2001-11-23 | F       | 13321313 | ansXXXXXX@gmail.com | 8418054019 | 377130 | 00:22:32 | 18:44:38 | 2020-10-19 18:45:00 | ios     | srpaa349 | srpaa | IN017XXXXX1168 | iosvid:y46GHDAWDVBGF1937ETsdfhd56483GDSSAA=:81b16 |\n",
       "| 4 | kanika  | kathuria     | 2001-06-20 | F       | 12444655 | kanXXXXXX@gmail.com | 8055221226 | 534482 | 00:22:30 | 18:41:04 | 2020-10-19 18:45:00 | ios     | srpaa350 | srpaa | IN012XXXXX1162 | iosvid:y46GHDAWDVBGF1937ETsdfhd56483GDSSAA=:81b17 |\n",
       "| 5 | riya    | masi         | 2005-07-18 | Unknown | 12547615 | riyXXXXXX@gmail.com | 8556603655 | 258413 | 00:22:12 | 18:08:58 | 2020-10-19 18:45:00 | Android | srpaa359 | srpaa | IN017XXXXX1173 | faid:y46GHDAWDVBGF1937ETsdfhd56483GDSSAA=:22b20   |\n",
       "| 6 | leela   | with a child | 1987-04-13 | Unknown | 12379326 | leeXXXXXX@gmail.com | 9396979136 | 261600 | 00:22:08 | 18:01:50 | 2020-10-19 18:45:00 | Android | srpaa361 | srpaa | IN017XXXXX1174 | faid:y46GHDAWDVBGF1937ETsdfhd56483GDSSAA=:81b20   |\n",
       "\n"
      ],
      "text/plain": [
       "  FirstName LastName     Dob        Gender  UserId   Email              \n",
       "1 smt       shyani devi  1985-05-28 F       13260350 smtXXXXXX@gmail.com\n",
       "2 shakshi   sagar        1998-06-09 F       13454400 shaXXXXXX@gmail.com\n",
       "3 anshu     d/o          2001-11-23 F       13321313 ansXXXXXX@gmail.com\n",
       "4 kanika    kathuria     2001-06-20 F       12444655 kanXXXXXX@gmail.com\n",
       "5 riya      masi         2005-07-18 Unknown 12547615 riyXXXXXX@gmail.com\n",
       "6 leela     with a child 1987-04-13 Unknown 12379326 leeXXXXXX@gmail.com\n",
       "  Mobile     PostalCode LastLoginTime PresentLoginTime RegisteredOn       \n",
       "1 8812569734 509726     00:23:00      19:34:34         2020-10-19 18:45:00\n",
       "2 8615389304 772845     00:22:40      18:58:54         2020-10-19 18:45:00\n",
       "3 8418054019 377130     00:22:32      18:44:38         2020-10-19 18:45:00\n",
       "4 8055221226 534482     00:22:30      18:41:04         2020-10-19 18:45:00\n",
       "5 8556603655 258413     00:22:12      18:08:58         2020-10-19 18:45:00\n",
       "6 9396979136 261600     00:22:08      18:01:50         2020-10-19 18:45:00\n",
       "  OS.Type Reg.Referral.Code Reg.Referral.Prefix Ref.PC.AC.Number\n",
       "1 Android srpaa335          srpaa               IN017XXXXX1161  \n",
       "2 Android srpaa345          srpaa               IN017XXXXX1166  \n",
       "3 ios     srpaa349          srpaa               IN017XXXXX1168  \n",
       "4 ios     srpaa350          srpaa               IN012XXXXX1162  \n",
       "5 Android srpaa359          srpaa               IN017XXXXX1173  \n",
       "6 Android srpaa361          srpaa               IN017XXXXX1174  \n",
       "  Device.Id                                        \n",
       "1 faid:y46GHDAWDVBGF1937ETsdfhd56483GDSSAA=:22b12  \n",
       "2 faid:y46GHDAWDVBGF1937ETsdfhd56483GDSSAA=:14b15  \n",
       "3 iosvid:y46GHDAWDVBGF1937ETsdfhd56483GDSSAA=:81b16\n",
       "4 iosvid:y46GHDAWDVBGF1937ETsdfhd56483GDSSAA=:81b17\n",
       "5 faid:y46GHDAWDVBGF1937ETsdfhd56483GDSSAA=:22b20  \n",
       "6 faid:y46GHDAWDVBGF1937ETsdfhd56483GDSSAA=:81b20  "
      ]
     },
     "metadata": {},
     "output_type": "display_data"
    }
   ],
   "source": [
    "# counts the number of unique in very column in df\n",
    "col_unique <- sapply(df, n_distinct)\n",
    "\n",
    "# remove the columns have unique and stable values\n",
    "col_remove <- names(col_unique[col_unique == nrow(df) | col_unique == 1])\n",
    "df <- df[ , !(names(df) %in% col_remove)]\n",
    "\n",
    "head(df)"
   ]
  },
  {
   "cell_type": "markdown",
   "metadata": {},
   "source": [
    "---"
   ]
  },
  {
   "cell_type": "markdown",
   "metadata": {},
   "source": [
    "## 3. Labeling the target variable <a name=\"labelingthetargetvariable\"></a>"
   ]
  },
  {
   "cell_type": "markdown",
   "metadata": {},
   "source": [
    "Because we don't have the target variable in our dataset, we have to label the target variable ourselves. Labeling the target variable is an essential step in building a supervised learning model. By assigning appropriate labels to the target variable, we enable the model to learn from the provided data and make predictions or classifications based on the labeled outcomes. However, it is crucial to label the target variable carefully and accurately to ensure the model's effectiveness and interpretability. Here are the steps show how I label the target variable:\n",
    "\n",
    "- **Understanding the Target Variable:** First, we need to gain a clear understanding of the purpose of the target variable. Here, our target variable is a binary variable where 0 represents normal reregisters and 1 represents promo abuse cases.\n",
    "\n",
    "- **Define the Labeling Criteria:** This involves defining the rules or conditions that determine how each observation should be labeled. Remember, promo abuse is a type of fraud that involves people who try to register many times to take advantage of the company's offers. Therefore, there are a few considerations of promo abuse that can be mentioned like:\n",
    "\n",
    "    - *Personally identifiable information cannot be duplicated (UserID, Email, Mobile, Ref PC AC Number and Device Id):* These specific pieces of information are considered personally identifiable information (PII) as they uniquely identify an individual. In normal circumstances, each instance of this information should correspond to a distinct person. Therefore, if we come across repeated occurrences of the same PII in the dataset, it raises a red flag and indicates a potential case of promo abuse. So, by assigning a value of 1 to the target variable, we explicitly flag these repeated occurrences as cases of promo abuse. \n",
    "\n",
    "    - *Personally information can be duplicated (FirstName, LastName, Dob, Gender, PostalCode and OS Type):* It is indeed common to encounter individuals who share the same first name, last name, gender, phone type, or even birthday. These shared characteristics alone may not provide sufficient evidence to draw conclusions about promo abuse. In other words, the presence of such similarities in the dataset does not automatically imply promo abuse. Relying solely on these shared attributes may lead to false assumptions or incorrect conclusions. \n",
    "\n",
    "    - *Not Personally information (LastLoginTime, PresentLoginTime, RegisteredOn, Reg Referral Code, Reg Referral Prefix):* These variables provide valuable information that can be explored further to identify potential patterns of promo abuse. But now, we cannot draw definitive conclusions about the relationship between these variables and promo abuse.\n",
    "\n",
    "- **Consider Imbalanced Classes:** If the target variable has imbalanced classes, meaning one class significantly outweighs the others, carefully address the issue during the labeling process. Employ techniques such as oversampling, undersampling, or synthetic sampling to balance the classes and prevent the model from being biased towards the majority class.\n",
    "\n",
    "By labeling the target variable accurately and consistently, we provide the necessary ground truth for the supervised learning model. The labeled dataset serves as the foundation for training, validating, and evaluating the model's performance. Careful attention to the labeling process enhances the reliability and effectiveness of the subsequent modeling and analysis tasks."
   ]
  },
  {
   "cell_type": "code",
   "execution_count": 10,
   "metadata": {
    "vscode": {
     "languageId": "r"
    }
   },
   "outputs": [],
   "source": [
    "# create target value with all 0 (normal register)\n",
    "df$Target <- \"0\"\n",
    "\n",
    "# change the data type of target variable to factor\n",
    "df$Target <- factor(df$Target, levels = c(\"0\", \"1\"))"
   ]
  },
  {
   "cell_type": "markdown",
   "metadata": {},
   "source": [
    "**Personally identifiable information cannot be duplicated (UserId, Email, Mobile, Ref PC AC Number and Device Id)**\n",
    "\n",
    "when we encounter repeated occurrences of specific information that indicate promo abuse, assigning a value of 1 to the target variable "
   ]
  },
  {
   "cell_type": "code",
   "execution_count": 11,
   "metadata": {
    "vscode": {
     "languageId": "r"
    }
   },
   "outputs": [],
   "source": [
    "# target the promo abuse case\n",
    "\n",
    "# UserId\n",
    "df$Target[duplicated(df$UserId)] <- \"1\"\n",
    "\n",
    "# Email\n",
    "df$Target[duplicated(df$Email)] <- \"1\"\n",
    "\n",
    "# Mobile\n",
    "df$Target[duplicated(df$Mobile)] <- \"1\"\n",
    "\n",
    "# Ref PC AC Number\n",
    "df$Target[duplicated(df$Ref.PC.AC.Number)] <- \"1\"\n",
    "\n",
    "# device id\n",
    "df$Target[duplicated(df$Device.Id)] <- \"1\""
   ]
  },
  {
   "cell_type": "markdown",
   "metadata": {},
   "source": [
    "**Consider Imbalanced Classes**\n",
    "\n",
    "It is important to recognize and handle imbalanced datasets appropriately to avoid biased or ineffective models. "
   ]
  },
  {
   "cell_type": "code",
   "execution_count": 12,
   "metadata": {
    "vscode": {
     "languageId": "r"
    }
   },
   "outputs": [
    {
     "name": "stdout",
     "output_type": "stream",
     "text": [
      "[1] \"Target Frequency || 0: Normal register & 1: Promo abuse\"\n"
     ]
    },
    {
     "data": {
      "text/plain": [
       "\n",
       "  0   1 \n",
       "205 190 "
      ]
     },
     "metadata": {},
     "output_type": "display_data"
    },
    {
     "name": "stdout",
     "output_type": "stream",
     "text": [
      "[1] \"Target Proportion (%) || 0: Normal register & 1: Promo abuse\"\n"
     ]
    },
    {
     "data": {
      "text/plain": [
       "\n",
       "       0        1 \n",
       "51.89873 48.10127 "
      ]
     },
     "metadata": {},
     "output_type": "display_data"
    }
   ],
   "source": [
    "# check the frequency of the target variable in the dataset\n",
    "print(\"Target Frequency || 0: Normal register & 1: Promo abuse\")\n",
    "table(df$Target)\n",
    "\n",
    "# check the proportion (%) of the target variable in the original dataset\n",
    "print(\"Target Proportion (%) || 0: Normal register & 1: Promo abuse\")\n",
    "prop.table(table(df$Target)) * 100"
   ]
  },
  {
   "cell_type": "markdown",
   "metadata": {},
   "source": [
    "In the scenario, the classes 0 and 1 in the target variable are present in relatively equal proportions, it can be considered a case of relative balance within the dataset. This balance provides advantages such as improved predictive performance, model interpretability, reliable evaluation metrics, and enhanced generalizability.\n",
    "\n",
    "**Next, we will learn how to use the MCA technique used for reducing dimemsions of categorical or qualitative features before building a model.**\n",
    "\n",
    "---"
   ]
  },
  {
   "cell_type": "markdown",
   "metadata": {},
   "source": [
    "## 4. MCA (Multiple Correspondence Analysis) technique <a name=\"mca\"></a>\n",
    "\n",
    "Given that most of the features in the dataset are qualitative variables, it is indeed appropriate to apply MCA (Multiple Correspondence Analysis) to facilitate the analysis and modeling process.\n",
    "\n",
    "**Definition of MCA (Multiple Correspondence Analysis) technique**\n",
    "\n",
    "MCA (Multiple Correspondence Analysis) is a dimensionality reduction technique used for categorical or qualitative data analysis. It is an extension of Correspondence Analysis (CA) and is commonly applied to explore relationships and patterns in large categorical datasets.\n",
    "\n",
    "MCA operates on a table that represents the associations between multiple categorical variables. It seeks to find a lower-dimensional representation of the data while preserving the relationships between variables. The resulting dimensions, called factorial dimensions, provide a visual representation of the associations among the categorical variables in the dataset."
   ]
  },
  {
   "cell_type": "markdown",
   "metadata": {},
   "source": [
    "**Some advantages of MCA technique** MCA can be a useful tool in the process of building models, especially when working with categorical or qualitative data:\n",
    "\n",
    "- *Feature Engineering:* MCA helps in feature engineering by transforming categorical variables into numerical representations. It captures the relationships and associations between the categorical variables and provides a reduced-dimensional representation of the data. This transformation allows for the inclusion of categorical variables in predictive models that typically require numerical inputs.\n",
    "\n",
    "- *Dimensionality Reduction:* MCA reduces the dimensionality of the categorical data while preserving the underlying structure and associations. MCA allows for a more concise representation of the data. This reduction in dimensionality can be advantageous in building models, as it helps to avoid the curse of dimensionality and enhances the interpretability of the model.\n",
    "\n",
    "- *Variable Selection:* MCA can assist in variable selection by identifying the most informative categorical variables. The factorial dimensions generated by MCA provide insights into the importance and contribution of different variables to the overall structure of the data. Variables that exhibit strong associations with the dimensions can be selected as relevant features for modeling, potentially improving the performance and efficiency of the model.\n",
    "\n",
    "- *Preprocessing for Machine Learning Algorithms:* MCA can serve as a preprocessing step for machine learning algorithms that require numerical inputs. By applying MCA to categorical variables, the transformed dimensions can be used as features in the model-building process. This enables the utilization of powerful machine learning algorithms, such as decision trees, random forests, or neural networks, for predictive modeling tasks involving categorical data.\n",
    "\n",
    "In summary, by leveraging the reduced-dimensional representation and insights provided by MCA, analysts and data scientists can enhance the effectiveness, interpretability, and performance of models when working with categorical or qualitative data."
   ]
  },
  {
   "cell_type": "code",
   "execution_count": 13,
   "metadata": {
    "vscode": {
     "languageId": "r"
    }
   },
   "outputs": [
    {
     "name": "stderr",
     "output_type": "stream",
     "text": [
      "Warning message:\n",
      "\"ggrepel: 9 unlabeled data points (too many overlaps). Consider increasing max.overlaps\"\n"
     ]
    },
    {
     "data": {
      "text/html": [
       "<table class=\"dataframe\">\n",
       "<caption>A matrix: 6 × 7 of type dbl</caption>\n",
       "<thead>\n",
       "\t<tr><th></th><th scope=col>Dim 1</th><th scope=col>Dim 2</th><th scope=col>Dim 3</th><th scope=col>Dim 4</th><th scope=col>Dim 5</th><th scope=col>Dim 6</th><th scope=col>Dim 7</th></tr>\n",
       "</thead>\n",
       "<tbody>\n",
       "\t<tr><th scope=row>1</th><td>2.314520</td><td>1.573361</td><td> 1.1086826</td><td>0.61131277</td><td>-0.9475785</td><td> 0.2593996</td><td>-0.7705553</td></tr>\n",
       "\t<tr><th scope=row>2</th><td>2.943898</td><td>2.833644</td><td>-0.3934609</td><td>1.18108346</td><td>-1.0770750</td><td>-0.0836121</td><td>-0.3525873</td></tr>\n",
       "\t<tr><th scope=row>3</th><td>4.874686</td><td>6.655806</td><td>-0.2262243</td><td>0.03932749</td><td>-1.2939013</td><td>-0.2712755</td><td>-0.2445833</td></tr>\n",
       "\t<tr><th scope=row>4</th><td>4.874686</td><td>6.655806</td><td>-0.2262243</td><td>0.03932749</td><td>-1.2939013</td><td>-0.2712755</td><td>-0.2445833</td></tr>\n",
       "\t<tr><th scope=row>5</th><td>3.987433</td><td>3.300953</td><td>-0.2011732</td><td>3.39416292</td><td>-3.4518240</td><td> 0.6066285</td><td> 0.8891277</td></tr>\n",
       "\t<tr><th scope=row>6</th><td>3.987433</td><td>3.300953</td><td>-0.2011732</td><td>3.39416292</td><td>-3.4518240</td><td> 0.6066285</td><td> 0.8891277</td></tr>\n",
       "</tbody>\n",
       "</table>\n"
      ],
      "text/latex": [
       "A matrix: 6 × 7 of type dbl\n",
       "\\begin{tabular}{r|lllllll}\n",
       "  & Dim 1 & Dim 2 & Dim 3 & Dim 4 & Dim 5 & Dim 6 & Dim 7\\\\\n",
       "\\hline\n",
       "\t1 & 2.314520 & 1.573361 &  1.1086826 & 0.61131277 & -0.9475785 &  0.2593996 & -0.7705553\\\\\n",
       "\t2 & 2.943898 & 2.833644 & -0.3934609 & 1.18108346 & -1.0770750 & -0.0836121 & -0.3525873\\\\\n",
       "\t3 & 4.874686 & 6.655806 & -0.2262243 & 0.03932749 & -1.2939013 & -0.2712755 & -0.2445833\\\\\n",
       "\t4 & 4.874686 & 6.655806 & -0.2262243 & 0.03932749 & -1.2939013 & -0.2712755 & -0.2445833\\\\\n",
       "\t5 & 3.987433 & 3.300953 & -0.2011732 & 3.39416292 & -3.4518240 &  0.6066285 &  0.8891277\\\\\n",
       "\t6 & 3.987433 & 3.300953 & -0.2011732 & 3.39416292 & -3.4518240 &  0.6066285 &  0.8891277\\\\\n",
       "\\end{tabular}\n"
      ],
      "text/markdown": [
       "\n",
       "A matrix: 6 × 7 of type dbl\n",
       "\n",
       "| <!--/--> | Dim 1 | Dim 2 | Dim 3 | Dim 4 | Dim 5 | Dim 6 | Dim 7 |\n",
       "|---|---|---|---|---|---|---|---|\n",
       "| 1 | 2.314520 | 1.573361 |  1.1086826 | 0.61131277 | -0.9475785 |  0.2593996 | -0.7705553 |\n",
       "| 2 | 2.943898 | 2.833644 | -0.3934609 | 1.18108346 | -1.0770750 | -0.0836121 | -0.3525873 |\n",
       "| 3 | 4.874686 | 6.655806 | -0.2262243 | 0.03932749 | -1.2939013 | -0.2712755 | -0.2445833 |\n",
       "| 4 | 4.874686 | 6.655806 | -0.2262243 | 0.03932749 | -1.2939013 | -0.2712755 | -0.2445833 |\n",
       "| 5 | 3.987433 | 3.300953 | -0.2011732 | 3.39416292 | -3.4518240 |  0.6066285 |  0.8891277 |\n",
       "| 6 | 3.987433 | 3.300953 | -0.2011732 | 3.39416292 | -3.4518240 |  0.6066285 |  0.8891277 |\n",
       "\n"
      ],
      "text/plain": [
       "  Dim 1    Dim 2    Dim 3      Dim 4      Dim 5      Dim 6      Dim 7     \n",
       "1 2.314520 1.573361  1.1086826 0.61131277 -0.9475785  0.2593996 -0.7705553\n",
       "2 2.943898 2.833644 -0.3934609 1.18108346 -1.0770750 -0.0836121 -0.3525873\n",
       "3 4.874686 6.655806 -0.2262243 0.03932749 -1.2939013 -0.2712755 -0.2445833\n",
       "4 4.874686 6.655806 -0.2262243 0.03932749 -1.2939013 -0.2712755 -0.2445833\n",
       "5 3.987433 3.300953 -0.2011732 3.39416292 -3.4518240  0.6066285  0.8891277\n",
       "6 3.987433 3.300953 -0.2011732 3.39416292 -3.4518240  0.6066285  0.8891277"
      ]
     },
     "metadata": {},
     "output_type": "display_data"
    }
   ],
   "source": [
    "# conduct mca technique\n",
    "mca_result <- MCA(df[, -17], ncp = 7)$ind$coord\n",
    "\n",
    "# view the feature after aplly mca\n",
    "head(mca_result)"
   ]
  },
  {
   "cell_type": "markdown",
   "metadata": {},
   "source": [
    "As you can see drom the result above, MCA technique not only help us to transform the qualitative features into numerical but also  reduce the dimensionality of the qualitative variables.\n",
    "\n",
    "Let's combine these result into the original dataset."
   ]
  },
  {
   "cell_type": "code",
   "execution_count": 14,
   "metadata": {
    "vscode": {
     "languageId": "r"
    }
   },
   "outputs": [
    {
     "data": {
      "text/html": [
       "<table class=\"dataframe\">\n",
       "<caption>A data.frame: 6 × 8</caption>\n",
       "<thead>\n",
       "\t<tr><th></th><th scope=col>Target</th><th scope=col>Dim.1</th><th scope=col>Dim.2</th><th scope=col>Dim.3</th><th scope=col>Dim.4</th><th scope=col>Dim.5</th><th scope=col>Dim.6</th><th scope=col>Dim.7</th></tr>\n",
       "\t<tr><th></th><th scope=col>&lt;fct&gt;</th><th scope=col>&lt;dbl&gt;</th><th scope=col>&lt;dbl&gt;</th><th scope=col>&lt;dbl&gt;</th><th scope=col>&lt;dbl&gt;</th><th scope=col>&lt;dbl&gt;</th><th scope=col>&lt;dbl&gt;</th><th scope=col>&lt;dbl&gt;</th></tr>\n",
       "</thead>\n",
       "<tbody>\n",
       "\t<tr><th scope=row>1</th><td>0</td><td>2.314520</td><td>1.573361</td><td> 1.1086826</td><td>0.61131277</td><td>-0.9475785</td><td> 0.2593996</td><td>-0.7705553</td></tr>\n",
       "\t<tr><th scope=row>2</th><td>0</td><td>2.943898</td><td>2.833644</td><td>-0.3934609</td><td>1.18108346</td><td>-1.0770750</td><td>-0.0836121</td><td>-0.3525873</td></tr>\n",
       "\t<tr><th scope=row>3</th><td>0</td><td>4.874686</td><td>6.655806</td><td>-0.2262243</td><td>0.03932749</td><td>-1.2939013</td><td>-0.2712755</td><td>-0.2445833</td></tr>\n",
       "\t<tr><th scope=row>4</th><td>0</td><td>4.874686</td><td>6.655806</td><td>-0.2262243</td><td>0.03932749</td><td>-1.2939013</td><td>-0.2712755</td><td>-0.2445833</td></tr>\n",
       "\t<tr><th scope=row>5</th><td>0</td><td>3.987433</td><td>3.300953</td><td>-0.2011732</td><td>3.39416292</td><td>-3.4518240</td><td> 0.6066285</td><td> 0.8891277</td></tr>\n",
       "\t<tr><th scope=row>6</th><td>0</td><td>3.987433</td><td>3.300953</td><td>-0.2011732</td><td>3.39416292</td><td>-3.4518240</td><td> 0.6066285</td><td> 0.8891277</td></tr>\n",
       "</tbody>\n",
       "</table>\n"
      ],
      "text/latex": [
       "A data.frame: 6 × 8\n",
       "\\begin{tabular}{r|llllllll}\n",
       "  & Target & Dim.1 & Dim.2 & Dim.3 & Dim.4 & Dim.5 & Dim.6 & Dim.7\\\\\n",
       "  & <fct> & <dbl> & <dbl> & <dbl> & <dbl> & <dbl> & <dbl> & <dbl>\\\\\n",
       "\\hline\n",
       "\t1 & 0 & 2.314520 & 1.573361 &  1.1086826 & 0.61131277 & -0.9475785 &  0.2593996 & -0.7705553\\\\\n",
       "\t2 & 0 & 2.943898 & 2.833644 & -0.3934609 & 1.18108346 & -1.0770750 & -0.0836121 & -0.3525873\\\\\n",
       "\t3 & 0 & 4.874686 & 6.655806 & -0.2262243 & 0.03932749 & -1.2939013 & -0.2712755 & -0.2445833\\\\\n",
       "\t4 & 0 & 4.874686 & 6.655806 & -0.2262243 & 0.03932749 & -1.2939013 & -0.2712755 & -0.2445833\\\\\n",
       "\t5 & 0 & 3.987433 & 3.300953 & -0.2011732 & 3.39416292 & -3.4518240 &  0.6066285 &  0.8891277\\\\\n",
       "\t6 & 0 & 3.987433 & 3.300953 & -0.2011732 & 3.39416292 & -3.4518240 &  0.6066285 &  0.8891277\\\\\n",
       "\\end{tabular}\n"
      ],
      "text/markdown": [
       "\n",
       "A data.frame: 6 × 8\n",
       "\n",
       "| <!--/--> | Target &lt;fct&gt; | Dim.1 &lt;dbl&gt; | Dim.2 &lt;dbl&gt; | Dim.3 &lt;dbl&gt; | Dim.4 &lt;dbl&gt; | Dim.5 &lt;dbl&gt; | Dim.6 &lt;dbl&gt; | Dim.7 &lt;dbl&gt; |\n",
       "|---|---|---|---|---|---|---|---|---|\n",
       "| 1 | 0 | 2.314520 | 1.573361 |  1.1086826 | 0.61131277 | -0.9475785 |  0.2593996 | -0.7705553 |\n",
       "| 2 | 0 | 2.943898 | 2.833644 | -0.3934609 | 1.18108346 | -1.0770750 | -0.0836121 | -0.3525873 |\n",
       "| 3 | 0 | 4.874686 | 6.655806 | -0.2262243 | 0.03932749 | -1.2939013 | -0.2712755 | -0.2445833 |\n",
       "| 4 | 0 | 4.874686 | 6.655806 | -0.2262243 | 0.03932749 | -1.2939013 | -0.2712755 | -0.2445833 |\n",
       "| 5 | 0 | 3.987433 | 3.300953 | -0.2011732 | 3.39416292 | -3.4518240 |  0.6066285 |  0.8891277 |\n",
       "| 6 | 0 | 3.987433 | 3.300953 | -0.2011732 | 3.39416292 | -3.4518240 |  0.6066285 |  0.8891277 |\n",
       "\n"
      ],
      "text/plain": [
       "  Target Dim.1    Dim.2    Dim.3      Dim.4      Dim.5      Dim.6     \n",
       "1 0      2.314520 1.573361  1.1086826 0.61131277 -0.9475785  0.2593996\n",
       "2 0      2.943898 2.833644 -0.3934609 1.18108346 -1.0770750 -0.0836121\n",
       "3 0      4.874686 6.655806 -0.2262243 0.03932749 -1.2939013 -0.2712755\n",
       "4 0      4.874686 6.655806 -0.2262243 0.03932749 -1.2939013 -0.2712755\n",
       "5 0      3.987433 3.300953 -0.2011732 3.39416292 -3.4518240  0.6066285\n",
       "6 0      3.987433 3.300953 -0.2011732 3.39416292 -3.4518240  0.6066285\n",
       "  Dim.7     \n",
       "1 -0.7705553\n",
       "2 -0.3525873\n",
       "3 -0.2445833\n",
       "4 -0.2445833\n",
       "5  0.8891277\n",
       "6  0.8891277"
      ]
     },
     "metadata": {},
     "output_type": "display_data"
    }
   ],
   "source": [
    "# combine the result of MCA into the original dataset\n",
    "df <- cbind(df, mca_result)\n",
    "\n",
    "# remve the qualitative feature from the original dataset\n",
    "df <- df[,-c(1:16)]\n",
    "\n",
    "# make valid names for new columns\n",
    "colnames(df) <- make.names(colnames(df))\n",
    "\n",
    "# view the dataset after apply MCA\n",
    "head(df)"
   ]
  },
  {
   "cell_type": "markdown",
   "metadata": {},
   "source": [
    "***Next, let's build supervised model on this dataset.***\n",
    "\n",
    "---"
   ]
  },
  {
   "cell_type": "markdown",
   "metadata": {},
   "source": [
    "## 5. Modeling <a name=\"modeling\"></a>"
   ]
  },
  {
   "cell_type": "code",
   "execution_count": 15,
   "metadata": {
    "vscode": {
     "languageId": "r"
    }
   },
   "outputs": [
    {
     "name": "stdout",
     "output_type": "stream",
     "text": [
      "[1] \"Class Proportion (%) in Trainset and Testset || 0: Normal register & 1: Promo abuse\"\n"
     ]
    },
    {
     "data": {
      "text/html": [
       "<table class=\"dataframe\">\n",
       "<caption>A matrix: 2 × 2 of type dbl</caption>\n",
       "<thead>\n",
       "\t<tr><th></th><th scope=col>Trainset</th><th scope=col>Testset</th></tr>\n",
       "</thead>\n",
       "<tbody>\n",
       "\t<tr><th scope=row>0</th><td>51.35135</td><td>53.53535</td></tr>\n",
       "\t<tr><th scope=row>1</th><td>48.64865</td><td>46.46465</td></tr>\n",
       "</tbody>\n",
       "</table>\n"
      ],
      "text/latex": [
       "A matrix: 2 × 2 of type dbl\n",
       "\\begin{tabular}{r|ll}\n",
       "  & Trainset & Testset\\\\\n",
       "\\hline\n",
       "\t0 & 51.35135 & 53.53535\\\\\n",
       "\t1 & 48.64865 & 46.46465\\\\\n",
       "\\end{tabular}\n"
      ],
      "text/markdown": [
       "\n",
       "A matrix: 2 × 2 of type dbl\n",
       "\n",
       "| <!--/--> | Trainset | Testset |\n",
       "|---|---|---|\n",
       "| 0 | 51.35135 | 53.53535 |\n",
       "| 1 | 48.64865 | 46.46465 |\n",
       "\n"
      ],
      "text/plain": [
       "  Trainset Testset \n",
       "0 51.35135 53.53535\n",
       "1 48.64865 46.46465"
      ]
     },
     "metadata": {},
     "output_type": "display_data"
    }
   ],
   "source": [
    "# Split the original data into train set and test set\n",
    "set.seed(100)\n",
    "ind = sample.split(df, SplitRatio = 0.8) # split ratio is 0.8.\n",
    "train = df[ind, ]\n",
    "test =  df[!ind, ]\n",
    "\n",
    "# see the proportion of the target variable in train set and test set\n",
    "print(\"Class Proportion (%) in Trainset and Testset || 0: Normal register & 1: Promo abuse\")\n",
    "cbind(Trainset = prop.table(table(train$Target)) * 100, \n",
    "      Testset = prop.table(table(test$Target)) * 100)"
   ]
  },
  {
   "cell_type": "markdown",
   "metadata": {},
   "source": [
    "**Target Frequency:** The percentage frequency of target variable in both train set and test set is relatively similar to the original dataset. So, now let's apply the techniques we discussed above to the train set to solve the imbalanced problem.\n",
    "\n",
    "So, now we will apply a variety of predictive models to detect fraudulent registers:\n",
    "- Random forest\n",
    "- K-nearest neighbors\n",
    "- Logistic regression\n",
    "-  Decision tree"
   ]
  },
  {
   "cell_type": "code",
   "execution_count": 16,
   "metadata": {
    "vscode": {
     "languageId": "r"
    }
   },
   "outputs": [
    {
     "name": "stderr",
     "output_type": "stream",
     "text": [
      "Setting levels: control = 0, case = 1\n",
      "\n",
      "Setting direction: controls < cases\n",
      "\n",
      "Setting levels: control = 0, case = 1\n",
      "\n",
      "Setting direction: controls < cases\n",
      "\n",
      "Setting levels: control = 0, case = 1\n",
      "\n",
      "Setting direction: controls < cases\n",
      "\n",
      "Setting levels: control = 0, case = 1\n",
      "\n",
      "Setting direction: controls < cases\n",
      "\n"
     ]
    }
   ],
   "source": [
    "# create list of models \n",
    "model_name <- c( \"rf\", \"knn\", \"glm\", \"rpart\")\n",
    "\n",
    "# this variable is used to store the evaluation metrics\n",
    "evaluation <- matrix(nrow = 0, ncol = 5) \n",
    "# this variable is used to store confusion matrices\n",
    "list_confusion_matrix <- list() \n",
    "\n",
    "for (methods in model_name){\n",
    "    # build model on train set\n",
    "    set.seed(1)\n",
    "    model <- train(Target ~ ., \n",
    "                   data = train, \n",
    "                   method = methods, \n",
    "                   trControl = trainControl(method = \"cv\", number = 5))\n",
    "\n",
    "    # use the model to predict on test set\n",
    "    predictions <- predict(model, newdata = test)\n",
    "\n",
    "    # calculate evaluation metrics \n",
    "    accuracy <- sum(predictions == test$Target) / length(test$Target)\n",
    "    auc <- as.numeric(auc(test$Target, as.numeric(predictions)))\n",
    "    cm <- confusionMatrix(predictions, test$Target)$table\n",
    "    precision <- cm[2, 2]/(cm[2, 2] + cm[2, 1]) # TP/(TP+FP)\n",
    "    recall <- cm[2, 2]/(cm[2, 2] + cm[1, 2]) # TP/(TP+FN)\n",
    "    f1 <- 2 * (precision * recall) / (precision + recall)\n",
    "\n",
    "    # store calculated metrics and confusion matrices\n",
    "    evaluation <- rbind(evaluation, c(accuracy, auc, precision, recall, f1))\n",
    "    list_confusion_matrix[[length(list_confusion_matrix)+1]] <- list(cm)\n",
    "}"
   ]
  },
  {
   "cell_type": "markdown",
   "metadata": {},
   "source": [
    "Once the model has been constructed using the training set, it will be assessed by applying it to the test set. This evaluation process involves examining various performance metrics to gauge the model's effectiveness."
   ]
  },
  {
   "cell_type": "code",
   "execution_count": 17,
   "metadata": {
    "vscode": {
     "languageId": "r"
    }
   },
   "outputs": [
    {
     "name": "stdout",
     "output_type": "stream",
     "text": [
      "[1] \"The evaluation metrics: \"\n"
     ]
    },
    {
     "data": {
      "text/html": [
       "<table class=\"dataframe\">\n",
       "<caption>A matrix: 4 × 5 of type dbl</caption>\n",
       "<thead>\n",
       "\t<tr><th></th><th scope=col>Accuracy</th><th scope=col>AUC</th><th scope=col>Precision</th><th scope=col>Recall</th><th scope=col>F1</th></tr>\n",
       "</thead>\n",
       "<tbody>\n",
       "\t<tr><th scope=row>Random Forest</th><td>0.7676768</td><td>0.7686628</td><td>0.7346939</td><td>0.7826087</td><td>0.7578947</td></tr>\n",
       "\t<tr><th scope=row>K-nearest neighbors</th><td>0.7070707</td><td>0.7034454</td><td>0.6976744</td><td>0.6521739</td><td>0.6741573</td></tr>\n",
       "\t<tr><th scope=row>Logistic Regression</th><td>0.6464646</td><td>0.6454061</td><td>0.6170213</td><td>0.6304348</td><td>0.6236559</td></tr>\n",
       "\t<tr><th scope=row>Decision Tree</th><td>0.7272727</td><td>0.7251846</td><td>0.7111111</td><td>0.6956522</td><td>0.7032967</td></tr>\n",
       "</tbody>\n",
       "</table>\n"
      ],
      "text/latex": [
       "A matrix: 4 × 5 of type dbl\n",
       "\\begin{tabular}{r|lllll}\n",
       "  & Accuracy & AUC & Precision & Recall & F1\\\\\n",
       "\\hline\n",
       "\tRandom Forest & 0.7676768 & 0.7686628 & 0.7346939 & 0.7826087 & 0.7578947\\\\\n",
       "\tK-nearest neighbors & 0.7070707 & 0.7034454 & 0.6976744 & 0.6521739 & 0.6741573\\\\\n",
       "\tLogistic Regression & 0.6464646 & 0.6454061 & 0.6170213 & 0.6304348 & 0.6236559\\\\\n",
       "\tDecision Tree & 0.7272727 & 0.7251846 & 0.7111111 & 0.6956522 & 0.7032967\\\\\n",
       "\\end{tabular}\n"
      ],
      "text/markdown": [
       "\n",
       "A matrix: 4 × 5 of type dbl\n",
       "\n",
       "| <!--/--> | Accuracy | AUC | Precision | Recall | F1 |\n",
       "|---|---|---|---|---|---|\n",
       "| Random Forest | 0.7676768 | 0.7686628 | 0.7346939 | 0.7826087 | 0.7578947 |\n",
       "| K-nearest neighbors | 0.7070707 | 0.7034454 | 0.6976744 | 0.6521739 | 0.6741573 |\n",
       "| Logistic Regression | 0.6464646 | 0.6454061 | 0.6170213 | 0.6304348 | 0.6236559 |\n",
       "| Decision Tree | 0.7272727 | 0.7251846 | 0.7111111 | 0.6956522 | 0.7032967 |\n",
       "\n"
      ],
      "text/plain": [
       "                    Accuracy  AUC       Precision Recall    F1       \n",
       "Random Forest       0.7676768 0.7686628 0.7346939 0.7826087 0.7578947\n",
       "K-nearest neighbors 0.7070707 0.7034454 0.6976744 0.6521739 0.6741573\n",
       "Logistic Regression 0.6464646 0.6454061 0.6170213 0.6304348 0.6236559\n",
       "Decision Tree       0.7272727 0.7251846 0.7111111 0.6956522 0.7032967"
      ]
     },
     "metadata": {},
     "output_type": "display_data"
    },
    {
     "name": "stdout",
     "output_type": "stream",
     "text": [
      "[1] \"The confusion matrices: \"\n"
     ]
    },
    {
     "data": {
      "text/plain": [
       "$`Random Forest`\n",
       "$`Random Forest`[[1]]\n",
       "          Reference\n",
       "Prediction  0  1\n",
       "         0 40 10\n",
       "         1 13 36\n",
       "\n",
       "\n",
       "$`K-nearest neighbors`\n",
       "$`K-nearest neighbors`[[1]]\n",
       "          Reference\n",
       "Prediction  0  1\n",
       "         0 40 16\n",
       "         1 13 30\n",
       "\n",
       "\n",
       "$`Logistic Regression`\n",
       "$`Logistic Regression`[[1]]\n",
       "          Reference\n",
       "Prediction  0  1\n",
       "         0 35 17\n",
       "         1 18 29\n",
       "\n",
       "\n",
       "$`Decision Tree`\n",
       "$`Decision Tree`[[1]]\n",
       "          Reference\n",
       "Prediction  0  1\n",
       "         0 40 14\n",
       "         1 13 32\n",
       "\n"
      ]
     },
     "metadata": {},
     "output_type": "display_data"
    }
   ],
   "source": [
    "# see evaluation metrics of all models\n",
    "print(\"The evaluation metrics: \")\n",
    "colnames(evaluation) <- c(\"Accuracy\", \"AUC\", \"Precision\", \"Recall\", \"F1\")\n",
    "rownames(evaluation) <- c(\"Random Forest\", \"K-nearest neighbors\", \"Logistic Regression\", \"Decision Tree\")\n",
    "evaluation\n",
    "\n",
    "# see the confusion matrices of all models\n",
    "print(\"The confusion matrices: \")\n",
    "names(list_confusion_matrix) <- c(\"Random Forest\", \"K-nearest neighbors\", \"Logistic Regression\", \"Decision Tree\")\n",
    "list_confusion_matrix"
   ]
  },
  {
   "cell_type": "markdown",
   "metadata": {},
   "source": [
    "**Interpret the evaluation metrics**\n",
    "\n",
    "- **Accuracy** \n",
    "    - Accuracy is a straightforward metric and provides a quick overview of the overall performance of a classification model. However, it has limitations, in some cases a high accuracy score can be misleading. It is essential to consider other evaluation metrics like precision, recall, F1-score, or area under the curve (AUC) to get a more comprehensive understanding of the model's performance.\n",
    "    - The 'Random Forest' model has the best accuracy score.\n",
    "\n",
    "- **AUC**\n",
    "    - AUC stands for Area Under the Curve, and it is a commonly used evaluation metric for binary classification models. Specifically, it measures the performance of a model in terms of its ability to discriminate between positive and negative instances.\n",
    "    - The AUC score ranges from 0 to 1, with a higher value indicating better performance. A model with an AUC of 1 implies perfect discrimination, meaning it can perfectly distinguish between positive and negative instances. Conversely, an AUC of 0.5 suggests that the model's predictions are no better than random guessing.\n",
    "    - The 'Random Forest' model has the best AUC score.\n",
    "\n",
    "- **Precision**\n",
    "    - The Precision measures the accuracy of the positive predictions made by a model, specifically the proportion of true positive predictions (correctly predicted positive instances) out of all positive predictions made.\n",
    "    - We can see that The precision metric focuses on the quality of positive predictions.\n",
    "    - The 'Random Forest' model has the best Precision score.\n",
    "\n",
    "- **Recall**\n",
    "    - Recall, also known as sensitivity or true positive rate, measures the model's ability to correctly identify positive instances out of all actual positive instances in the dataset.\n",
    "    - The recall metric focuses on the model's ability to avoid false negatives.\n",
    "    - The 'Random Forest' model has the best Recall score.\n",
    "\n",
    "- **F1**\n",
    "    - F1-score is a metric that combines precision and recall into a single value, providing a balanced measure of a model's performance in binary classification tasks. It strikes a balance between false positives and false negatives and is particularly useful when both precision and recall are equally important.\n",
    "    - The 'Random Forest' model has the best F1 score.\n",
    "\n",
    "***Overall, The 'Random Forest' model shows the best results on our test set.***\n",
    "\n",
    "---\n"
   ]
  },
  {
   "cell_type": "markdown",
   "metadata": {},
   "source": [
    "## 6. Conclusion <a name=\"conclusion\"></a>\n",
    "\n",
    "In conclusion, the project focused on detecting promo abuse using machine learning techniques, specifically leveraging MCA (Multiple Correspondence Analysis). The goal was to identify patterns, associations, and relationships within the dataset to effectively detect and prevent promo abuse instances.\n",
    "\n",
    "**Summary**\n",
    "\n",
    "- **Labeling the target variable:** The project involved manually labeling the target variable. Labeling the target variable by hand allowed for the identification of promo abuse instances based on domain knowledge.\n",
    "\n",
    "- **MCA technique:** The MCA technique played a crucial role in the project by transforming qualitative variables into numerical representations, facilitating feature engineering, dimensionality reduction, and model interpretation. It allowed for the exploration of associations between categorical variables and provided insights into the underlying structure of the data.\n",
    "\n",
    "- **Machine learning model:** Use machine learning algorithms to build models, incorporating MCA dimensions as features, allowed for the prediction of promo abuse cases. The models were trained and evaluated using appropriate evaluation metrics such as accuracy, precision, recall, F1-score, and AUC to assess their performance. The 'Random Forest' model gives the best prediction on the test set.\n",
    "\n",
    "\n",
    "**Some recommendations for future improvements**\n",
    "\n",
    "- **Advanced Machine Learning Techniques:** Experiment with advanced machine learning algorithms beyond traditional models. Deep learning approaches, such as neural networks or recurrent neural networks (RNNs), may uncover complex patterns and improve the detection accuracy of promo abuse.\n",
    "\n",
    "- **Unsupervised Learning Techniques:** Consider using unsupervised learning techniques such as clustering or anomaly detection algorithms. These techniques can help identify unusual patterns or outliers that may indicate promo abuse, even in cases where labeled data is limited.\n",
    "\n",
    "- **Ensembling and Model Stacking:** Explore ensemble methods such as model averaging, bagging, or boosting to combine multiple models' predictions. Additionally, consider model stacking, which combines the predictions of multiple models as input to a higher-level model, to improve overall performance and capture diverse aspects of promo abuse."
   ]
  }
 ],
 "metadata": {
  "kernelspec": {
   "display_name": "R",
   "language": "R",
   "name": "ir"
  },
  "language_info": {
   "codemirror_mode": "r",
   "file_extension": ".r",
   "mimetype": "text/x-r-source",
   "name": "R",
   "pygments_lexer": "r",
   "version": "4.2.3"
  },
  "orig_nbformat": 4
 },
 "nbformat": 4,
 "nbformat_minor": 2
}
